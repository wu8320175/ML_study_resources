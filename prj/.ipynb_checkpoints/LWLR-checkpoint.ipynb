{
 "cells": [
  {
   "cell_type": "code",
   "execution_count": 1,
   "metadata": {},
   "outputs": [],
   "source": [
    "import numpy as np\n",
    "import matplotlib.pyplot as plt\n",
    "from matplotlib.font_manager import FontProperties\n",
    "import time\n",
    "import re"
   ]
  },
  {
   "cell_type": "code",
   "execution_count": 2,
   "metadata": {},
   "outputs": [],
   "source": [
    "def loadDataSet(filename):\n",
    "    data=[]\n",
    "    with open(filename,'r') as f:\n",
    "        txt=f.readlines()\n",
    "        for item in txt:\n",
    "            #item.replace('\\n','').split('\\t')\n",
    "            #print(item.replace('\\n','').strip())\n",
    "            data.append(re.split(r'\\s+',item.replace('\\n','').strip()))\n",
    "            #data.append(item.replace('\\n','').split(','))\n",
    "    return data"
   ]
  },
  {
   "cell_type": "code",
   "execution_count": 3,
   "metadata": {},
   "outputs": [],
   "source": [
    "def standRegres1(X,Y):\n",
    "    #最小二乘法\n",
    "    return np.linalg.pinv(X.T.dot(X)).dot(X.T).dot(Y).reshape(-1,1)\n"
   ]
  },
  {
   "cell_type": "code",
   "execution_count": 7,
   "metadata": {},
   "outputs": [],
   "source": [
    "def plotDataSet(DataSet):\n",
    "    row,col=DataSet.shape\n",
    "    fig=plt.figure()\n",
    "    ax=fig.add_subplot(111)\n",
    "    ax.scatter(DataSet[:,6],DataSet[:,-1],s=20,c='blue',alpha=.5)\n",
    "    plt.title('DataSet')\n",
    "    plt.xlabel('X')\n",
    "    plt.show()\n",
    "    \n",
    "def plotDataSet_1(DataSet):\n",
    "    #最小二乘法求得系数\n",
    "    row,col=DataSet.shape\n",
    "    X=DataSet[:,col-1]\n",
    "    Y=DataSet[:,-1]\n",
    "    theta=standRegres1(X,Y)\n",
    "    print(theta)\n",
    "    lines_data=X.dot(theta)\n",
    "    #使用局部加权线性回归\n",
    "    #lines_data=lwlr(DataSet[:,[0,1]],DataSet[:,-1],0.003)\n",
    "    fig=plt.figure()\n",
    "    ax=fig.add_subplot(111)\n",
    "    ax.plot(X[:,1],lines_data,c='red')\n",
    "    ax.scatter(X[:,1],Y,s=20,c='blue',alpha=.5)\n",
    "    plt.title('DataSet')\n",
    "    plt.xlabel('X')\n",
    "    print(np.corrcoef(lines_data.T,DataSet[:,-1]))\n",
    "    plt.show()    "
   ]
  },
  {
   "cell_type": "code",
   "execution_count": 8,
   "metadata": {},
   "outputs": [],
   "source": [
    "def lwlr(testX,X,Y,K=1.0):\n",
    "#局部加权线性回归\n",
    "    testrow,testrowcol=testX.shape#行，列\n",
    "    row,col=X.shape#行，列\n",
    "    yhat=np.zeros(row)#用于存高斯核处理得到的预测值\n",
    "    for i in range(testrow):\n",
    "        weights=np.eye(row)\n",
    "        for j in range(row):\n",
    "            #weights[j,j]=np.exp(np.linalg.norm(testX[i]-X[j])/(-2*K**2))\n",
    "            diffX=testX[i]-X[j]\n",
    "            weights[j,j]=np.exp(diffX.dot(diffX.T)/(-2*K**2))\n",
    "        xTx=X.T.dot(weights).dot(X)    \n",
    "#         if np.linalg.det(xTx) == 0.0:\n",
    "#             print(\"矩阵为奇异矩阵,不能求逆\")\n",
    "#             return\n",
    "#       ws=np.linalg.inv(xTx).dot(X.T).dot(weights).dot(Y)\n",
    "        ws=np.linalg.pinv(xTx).dot(X.T).dot(weights).dot(Y)\n",
    "        yhat[i]=testX[i].dot(ws.T)\n",
    "    #根据测试输入值输出预测值\n",
    "    return yhat"
   ]
  },
  {
   "cell_type": "code",
   "execution_count": 9,
   "metadata": {},
   "outputs": [],
   "source": [
    "def plotlwlrRegression(DataSet):\n",
    "    font = FontProperties(fname=r\"c:\\windows\\fonts\\simsun.ttc\", size=14)                                #加载数据集\n",
    "    row,col=DataSet.shape\n",
    "    xArr=DataSet[:,:col-1]\n",
    "    yArr=DataSet[:,-1]\n",
    "    yHat_1 = lwlr(xArr,xArr, yArr, 1.0)                            #根据局部加权线性回归计算yHat\n",
    "    yHat_2 = lwlr(xArr,xArr, yArr, 0.01)                            #根据局部加权线性回归计算yHat\n",
    "    yHat_3 = lwlr(xArr,xArr, yArr, 0.003)                            #根据局部加权线性回归计算yHat\n",
    "    xMat = np.mat(xArr)                                                    #创建xMat矩阵\n",
    "    yMat = np.mat(yArr)                                                    #创建yMat矩阵\n",
    "    srtInd = xMat[:, 1].argsort(0)                                        #排序，返回索引值\n",
    "    xSort = xMat[srtInd][:,0,:]\n",
    "    fig, axs = plt.subplots(nrows=3, ncols=1,sharex=False, sharey=False, figsize=(10,8))                                        \n",
    "    axs[0].plot(xSort[:, 1], yHat_1[srtInd], c = 'red')                        #绘制回归曲线\n",
    "    axs[1].plot(xSort[:, 1], yHat_2[srtInd], c = 'red')                        #绘制回归曲线\n",
    "    axs[2].plot(xSort[:, 1], yHat_3[srtInd], c = 'red')                        #绘制回归曲线\n",
    "    axs[0].scatter(xMat[:,1].flatten().A[0], yMat.flatten().A[0], s = 20, c = 'blue', alpha = .5)                #绘制样本点\n",
    "    axs[1].scatter(xMat[:,1].flatten().A[0], yMat.flatten().A[0], s = 20, c = 'blue', alpha = .5)                #绘制样本点\n",
    "    axs[2].scatter(xMat[:,1].flatten().A[0], yMat.flatten().A[0], s = 20, c = 'blue', alpha = .5)                #绘制样本点\n",
    "    #设置标题,x轴label,y轴label\n",
    "    axs0_title_text = axs[0].set_title(u'局部加权回归曲线,k=1.0',FontProperties=font)\n",
    "    axs1_title_text = axs[1].set_title(u'局部加权回归曲线,k=0.01',FontProperties=font)\n",
    "    axs2_title_text = axs[2].set_title(u'局部加权回归曲线,k=0.003',FontProperties=font)\n",
    "    plt.setp(axs0_title_text, size=8, weight='bold', color='red')  \n",
    "    plt.setp(axs1_title_text, size=8, weight='bold', color='red')  \n",
    "    plt.setp(axs2_title_text, size=8, weight='bold', color='red')  \n",
    "    plt.xlabel('X')\n",
    "    plt.show()"
   ]
  },
  {
   "cell_type": "code",
   "execution_count": 12,
   "metadata": {},
   "outputs": [],
   "source": [
    "#计算误差    \n",
    "def rssError(Y,Yhat):\n",
    "    return ((Y-Yhat)**2).sum()"
   ]
  },
  {
   "cell_type": "code",
   "execution_count": null,
   "metadata": {},
   "outputs": [],
   "source": []
  },
  {
   "cell_type": "code",
   "execution_count": 19,
   "metadata": {},
   "outputs": [
    {
     "name": "stdout",
     "output_type": "stream",
     "text": [
      "k=0.1时,误差大小为: 167.6622594878837\n",
      "k=1  时,误差大小为: 1371.2795437115658\n",
      "k=10 时,误差大小为: 2251.273082191463\n",
      "\n",
      "训练集与测试集不同:局部加权线性回归,核k的大小是越小越好吗？更换数据集,测试结果如下:\n",
      "k=0.1时,误差大小为: 11720.396937635176\n",
      "k=1  时,误差大小为: 10459.043207866385\n",
      "k=10 时,误差大小为: 10189.598052327781\n",
      "训练集与测试集不同:简单的线性归回与k=1时的局部加权线性回归对比:\n",
      "k=1时,误差大小为: 10459.043207866385\n",
      "简单的线性回归误差大小: 9200.917642234794\n"
     ]
    }
   ],
   "source": [
    "#Data=loadDataSet('ex1data1.txt')\n",
    "Data=loadDataSet('housing.data')\n",
    "DataSet=np.array(Data).astype(float)\n",
    "row,col=DataSet.shape\n",
    "DataSet=np.append(np.ones((row,1)),DataSet,axis=1)\n",
    "#lwlr(DataSet[:,[0,6]],DataSet[:,[0,6]],DataSet[:,-1])\n",
    "DataSet = np.delete(DataSet, 4, axis=1)\n",
    "row,col=DataSet.shape\n",
    "abX=DataSet[0:99,[0,6]]\n",
    "abY=DataSet[0:99,-1]\n",
    "yHat01 = lwlr(abX,abX,abY,0.1)\n",
    "yHat1 = lwlr(abX,abX,abY,1)\n",
    "yHat10 = lwlr(abX,abX,abY,10)\n",
    "print('k=0.1时,误差大小为:',rssError(abY[0:99], yHat01.T))\n",
    "print('k=1  时,误差大小为:',rssError(abY[0:99], yHat1.T))\n",
    "print('k=10 时,误差大小为:',rssError(abY[0:99], yHat10.T))\n",
    "print('')\n",
    "print('训练集与测试集不同:局部加权线性回归,核k的大小是越小越好吗？更换数据集,测试结果如下:')\n",
    "testabX=DataSet[100:199,[0,6]]\n",
    "testabY=DataSet[100:199,-1]\n",
    "yHat01 = lwlr(testabX, abX, abY, 0.1)\n",
    "yHat1 = lwlr(testabX, abX, abY, 1)\n",
    "yHat10 = lwlr(testabX, abX, abY, 10)\n",
    "\n",
    "print('k=0.1时,误差大小为:',rssError(testabY, yHat01.T))\n",
    "print('k=1  时,误差大小为:',rssError(testabY, yHat1.T))\n",
    "print('k=10 时,误差大小为:',rssError(testabY, yHat10.T))\n",
    "print('训练集与测试集不同:简单的线性归回与k=1时的局部加权线性回归对比:')\n",
    "print('k=1时,误差大小为:', rssError(testabY, yHat1.T))\n",
    "ws = standRegres1(abX, abY)\n",
    "yHat = testabX.dot(ws)\n",
    "print('简单的线性回归误差大小:', rssError(testabY, yHat.T))\n",
    "#plotlwlrRegression(DataSet[:,[0,6,-1]])\n",
    "#plotDataSet(DataSet)\n",
    "#theta=standRegres1(DataSet[:,:col],DataSet[:,-1])\n",
    "#plotDataSet_1(DataSet)"
   ]
  }
 ],
 "metadata": {
  "kernelspec": {
   "display_name": "Python 3",
   "language": "python",
   "name": "python3"
  },
  "language_info": {
   "codemirror_mode": {
    "name": "ipython",
    "version": 3
   },
   "file_extension": ".py",
   "mimetype": "text/x-python",
   "name": "python",
   "nbconvert_exporter": "python",
   "pygments_lexer": "ipython3",
   "version": "3.7.1"
  }
 },
 "nbformat": 4,
 "nbformat_minor": 2
}
