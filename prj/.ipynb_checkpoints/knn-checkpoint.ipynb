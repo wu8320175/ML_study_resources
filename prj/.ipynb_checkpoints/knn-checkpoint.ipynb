{
 "cells": [
  {
   "cell_type": "code",
   "execution_count": 1,
   "metadata": {},
   "outputs": [],
   "source": [
    "import numpy as np\n",
    "import os\n",
    "from collections import Counter"
   ]
  },
  {
   "cell_type": "code",
   "execution_count": 2,
   "metadata": {},
   "outputs": [],
   "source": [
    "def getdata(filename):\n",
    "    items=[]\n",
    "    label=[]\n",
    "    with open(filename,'r') as f:\n",
    "        for item in f.readlines():\n",
    "            itemrow=item.replace('\\n','').split('\\t')\n",
    "            items.append(itemrow[:3])\n",
    "            label.append(itemrow[-1])\n",
    "    data=np.array(items)\n",
    "    label=np.array(label)\n",
    "    return data.astype(float),label"
   ]
  },
  {
   "cell_type": "code",
   "execution_count": 3,
   "metadata": {},
   "outputs": [],
   "source": [
    "#数值归一化，特征缩放\n",
    "def tonorm(dataset):\n",
    "    for col in range(dataset.shape[1]):\n",
    "        maxnum=dataset[:,col].max()\n",
    "        minnum=dataset[:,col].min()\n",
    "        s=maxnum-minnum\n",
    "        dataset[:,col]=(dataset[:,col]-minnum)/s\n",
    "    return dataset\n"
   ]
  },
  {
   "cell_type": "code",
   "execution_count": 4,
   "metadata": {},
   "outputs": [],
   "source": [
    "#数值归一化，特征缩放\n",
    "def tonorm1(dataset,testdata):\n",
    "    for col in range(dataset.shape[1]):\n",
    "        maxnum=dataset[:,col].max()\n",
    "        minnum=dataset[:,col].min()\n",
    "        maxnum1=testdata[:,col].max()\n",
    "        minnum1=testdata[:,col].min()\n",
    "#         if maxnum1>maxnum:\n",
    "#             maxnum=maxnum1\n",
    "#         if minnum1<minnum:\n",
    "#             minnum=minnum1\n",
    "        s=maxnum-minnum\n",
    "        testdata[:,col]=(testdata[:,col]-minnum)/s\n",
    "        dataset[:,col]=(dataset[:,col]-minnum)/s\n",
    "    return dataset,testdata"
   ]
  },
  {
   "cell_type": "code",
   "execution_count": 14,
   "metadata": {},
   "outputs": [],
   "source": [
    "#knn关键算法\n",
    "#dataset:训练数据集;label:标签;traindata:测试数据\n",
    "import time\n",
    "def knn(k,dataset,label,traindata,tlabel):\n",
    "    traindata=np.array(list(traindata))\n",
    "    dataset=np.array(list(dataset)).astype(float)\n",
    "    label=np.array(list(label))\n",
    "    result=[]\n",
    "    for cr_data,cr_label in zip(traindata,tlabel):\n",
    "        #计算距离\n",
    "        ret=np.sum((cr_data-dataset)**2,axis=1)\n",
    "        ret=np.sqrt(ret)#.reshape(len(ret),1)\n",
    "        #组合，并排序\n",
    "        ret1=zip(label,ret)\n",
    "        ret2=sorted(ret1,key=lambda x:x[1])\n",
    "\n",
    "#         #拼接数组，按距离排序\n",
    "#         #x=np.append(dl,ret1,axis=1)        \n",
    "#         ret2=x[np.lexsort(ret1.T)] #对ret1进行排序取索引(数组值从小到大的索引值)\n",
    "#         time_end = time.time()\n",
    "#         print('px cost', time_end - time_start)\n",
    "        #取前k个\n",
    "        retk=[x[0] for x in ret2[0:k]]\n",
    "        predict=Counter(retk).most_common(1)\n",
    "        result.append(predict[0][0])\n",
    "        print('测试值:',cr_label,'预测值：',predict[0][0])\n",
    "    return result\n",
    "\n",
    "# test=[[101,20]]\n",
    "# #初始化\n",
    "# group=[[1,101],[5,89],[108,5],[115,8]]\n",
    "# label=['爱情片','爱情片','动作片','动作片']\n",
    "# knn(3,group,label,test)\n",
    "    "
   ]
  },
  {
   "cell_type": "code",
   "execution_count": 15,
   "metadata": {},
   "outputs": [
    {
     "name": "stdout",
     "output_type": "stream",
     "text": [
      "['0', '0', '0', '0']\n",
      "[('0', 4)]\n",
      "预测值： 0\n",
      "each cost 0.024001598358154297\n",
      "runtime: -1.3930797576904297\n"
     ]
    }
   ],
   "source": [
    "def img2vector(filename):\n",
    "    vect=[]\n",
    "    with open(filename,'r') as f:\n",
    "        for line in f.readlines():\n",
    "            for num in line.replace('\\n',''): \n",
    "                vect.append(int(num))\n",
    "    return vect\n",
    "\n",
    "def getdata(menu):\n",
    "    numvect=[]\n",
    "    label=[]\n",
    "    for file in os.listdir(menu):\n",
    "        label.append(file.split('_')[0])\n",
    "        numvect.append(img2vector(menu+'\\\\'+file))\n",
    "    return numvect,label\n",
    "import time\n",
    "start=time.time()\n",
    "\n",
    "testmenu=r'C:\\Users\\Administrator\\Desktop\\knn\\testDigits'\n",
    "trainmenu=r'C:\\Users\\Administrator\\Desktop\\knn\\trainingDigits'\n",
    "dataset,labels=getdata(trainmenu)\n",
    "testdata,tlabel=getdata(testmenu)\n",
    "#print(tlabel)\n",
    "predicts=knn(4,dataset,labels,testdata,tlabel)\n",
    "\n",
    "end=time.time()\n",
    "print('runtime:',start-end)\n",
    "#print(len(dataset),len(labels))\n",
    "\n",
    "# filename=r'C:\\Users\\Administrator\\Desktop\\ML_project\\Machine-Learning-master\\kNN\\testDigits\\0_31.txt'\n",
    "# vect=img2vector(filename)"
   ]
  },
  {
   "cell_type": "code",
   "execution_count": 6,
   "metadata": {},
   "outputs": [
    {
     "ename": "FileNotFoundError",
     "evalue": "[Errno 2] No such file or directory: 'C:\\\\Users\\\\Administrator\\\\Desktop\\\\ML_project\\\\Machine-Learning-master\\\\kNN\\\\datingTestSet.txt'",
     "output_type": "error",
     "traceback": [
      "\u001b[1;31m---------------------------------------------------------------------------\u001b[0m",
      "\u001b[1;31mFileNotFoundError\u001b[0m                         Traceback (most recent call last)",
      "\u001b[1;32m<ipython-input-6-79e495ff9a0a>\u001b[0m in \u001b[0;36m<module>\u001b[1;34m\u001b[0m\n\u001b[0;32m     27\u001b[0m \u001b[0mfilename\u001b[0m\u001b[1;33m=\u001b[0m\u001b[1;34mr'C:\\Users\\Administrator\\Desktop\\ML_project\\Machine-Learning-master\\kNN\\datingTestSet.txt'\u001b[0m\u001b[1;33m\u001b[0m\u001b[1;33m\u001b[0m\u001b[0m\n\u001b[0;32m     28\u001b[0m \u001b[0mradio\u001b[0m\u001b[1;33m=\u001b[0m\u001b[1;36m0.1\u001b[0m\u001b[1;33m\u001b[0m\u001b[1;33m\u001b[0m\u001b[0m\n\u001b[1;32m---> 29\u001b[1;33m \u001b[0mdatatest\u001b[0m\u001b[1;33m(\u001b[0m\u001b[0mfilename\u001b[0m\u001b[1;33m,\u001b[0m\u001b[0mradio\u001b[0m\u001b[1;33m)\u001b[0m\u001b[1;33m\u001b[0m\u001b[1;33m\u001b[0m\u001b[0m\n\u001b[0m",
      "\u001b[1;32m<ipython-input-6-79e495ff9a0a>\u001b[0m in \u001b[0;36mdatatest\u001b[1;34m(filename, radio)\u001b[0m\n\u001b[0;32m      3\u001b[0m     \u001b[1;31m#radio做测试，1-radio做训练数据\u001b[0m\u001b[1;33m\u001b[0m\u001b[1;33m\u001b[0m\u001b[1;33m\u001b[0m\u001b[0m\n\u001b[0;32m      4\u001b[0m     \u001b[1;31m#取数据\u001b[0m\u001b[1;33m\u001b[0m\u001b[1;33m\u001b[0m\u001b[1;33m\u001b[0m\u001b[0m\n\u001b[1;32m----> 5\u001b[1;33m     \u001b[0mdataset\u001b[0m\u001b[1;33m,\u001b[0m\u001b[0mlabel\u001b[0m\u001b[1;33m=\u001b[0m\u001b[0mgetdata\u001b[0m\u001b[1;33m(\u001b[0m\u001b[0mfilename\u001b[0m\u001b[1;33m)\u001b[0m\u001b[1;33m\u001b[0m\u001b[1;33m\u001b[0m\u001b[0m\n\u001b[0m\u001b[0;32m      6\u001b[0m     \u001b[1;31m#数值归一化\u001b[0m\u001b[1;33m\u001b[0m\u001b[1;33m\u001b[0m\u001b[1;33m\u001b[0m\u001b[0m\n\u001b[0;32m      7\u001b[0m     \u001b[0mdataset\u001b[0m\u001b[1;33m=\u001b[0m\u001b[0mtonorm\u001b[0m\u001b[1;33m(\u001b[0m\u001b[0mdataset\u001b[0m\u001b[1;33m)\u001b[0m\u001b[1;33m\u001b[0m\u001b[1;33m\u001b[0m\u001b[0m\n",
      "\u001b[1;32m<ipython-input-2-41b27e36e320>\u001b[0m in \u001b[0;36mgetdata\u001b[1;34m(filename)\u001b[0m\n\u001b[0;32m      2\u001b[0m     \u001b[0mitems\u001b[0m\u001b[1;33m=\u001b[0m\u001b[1;33m[\u001b[0m\u001b[1;33m]\u001b[0m\u001b[1;33m\u001b[0m\u001b[1;33m\u001b[0m\u001b[0m\n\u001b[0;32m      3\u001b[0m     \u001b[0mlabel\u001b[0m\u001b[1;33m=\u001b[0m\u001b[1;33m[\u001b[0m\u001b[1;33m]\u001b[0m\u001b[1;33m\u001b[0m\u001b[1;33m\u001b[0m\u001b[0m\n\u001b[1;32m----> 4\u001b[1;33m     \u001b[1;32mwith\u001b[0m \u001b[0mopen\u001b[0m\u001b[1;33m(\u001b[0m\u001b[0mfilename\u001b[0m\u001b[1;33m,\u001b[0m\u001b[1;34m'r'\u001b[0m\u001b[1;33m)\u001b[0m \u001b[1;32mas\u001b[0m \u001b[0mf\u001b[0m\u001b[1;33m:\u001b[0m\u001b[1;33m\u001b[0m\u001b[1;33m\u001b[0m\u001b[0m\n\u001b[0m\u001b[0;32m      5\u001b[0m         \u001b[1;32mfor\u001b[0m \u001b[0mitem\u001b[0m \u001b[1;32min\u001b[0m \u001b[0mf\u001b[0m\u001b[1;33m.\u001b[0m\u001b[0mreadlines\u001b[0m\u001b[1;33m(\u001b[0m\u001b[1;33m)\u001b[0m\u001b[1;33m:\u001b[0m\u001b[1;33m\u001b[0m\u001b[1;33m\u001b[0m\u001b[0m\n\u001b[0;32m      6\u001b[0m             \u001b[0mitemrow\u001b[0m\u001b[1;33m=\u001b[0m\u001b[0mitem\u001b[0m\u001b[1;33m.\u001b[0m\u001b[0mreplace\u001b[0m\u001b[1;33m(\u001b[0m\u001b[1;34m'\\n'\u001b[0m\u001b[1;33m,\u001b[0m\u001b[1;34m''\u001b[0m\u001b[1;33m)\u001b[0m\u001b[1;33m.\u001b[0m\u001b[0msplit\u001b[0m\u001b[1;33m(\u001b[0m\u001b[1;34m'\\t'\u001b[0m\u001b[1;33m)\u001b[0m\u001b[1;33m\u001b[0m\u001b[1;33m\u001b[0m\u001b[0m\n",
      "\u001b[1;31mFileNotFoundError\u001b[0m: [Errno 2] No such file or directory: 'C:\\\\Users\\\\Administrator\\\\Desktop\\\\ML_project\\\\Machine-Learning-master\\\\kNN\\\\datingTestSet.txt'"
     ]
    }
   ],
   "source": [
    "#训练算法，并计算knn错误率\n",
    "def datatest(filename,radio):\n",
    "    #radio做测试，1-radio做训练数据\n",
    "    #取数据\n",
    "    dataset,label=getdata(filename)\n",
    "    #数值归一化\n",
    "    dataset=tonorm(dataset)\n",
    "    #取行数，分类数据数量\n",
    "    rowtotal=dataset.shape[0]\n",
    "\n",
    "    testnum=int(rowtotal*radio)\n",
    "    trainnum=int(rowtotal-testnum)\n",
    "    testdata=dataset[0:testnum,:]\n",
    "    testlabel=label[0:testnum]\n",
    "\n",
    "    traindata=dataset[testnum:trainnum,:]\n",
    "    trainlabel=label[testnum:trainnum]\n",
    "    #预测数据\n",
    "    predicts=knn(4,traindata,trainlabel,testdata)\n",
    "    #计算错误率\n",
    "    errnum=0\n",
    "    for item,tlabel in zip(predicts,testlabel):\n",
    "        if item[-1]!=tlabel:\n",
    "            errnum+=1\n",
    "    print('错误率:',errnum/testnum*100,'%')\n",
    "    \n",
    "filename=r'C:\\Users\\Administrator\\Desktop\\ML_project\\Machine-Learning-master\\kNN\\datingTestSet.txt'\n",
    "radio=0.1\n",
    "datatest(filename,radio)"
   ]
  },
  {
   "cell_type": "code",
   "execution_count": null,
   "metadata": {},
   "outputs": [],
   "source": [
    "#约会预测小程序\n",
    "def knn_predict():\n",
    "    filename=r'C:\\Users\\Administrator\\Desktop\\ML_project\\Machine-Learning-master\\kNN\\datingTestSet.txt'\n",
    "    ft1,ft2,ft3=10000,10,0.5\n",
    "#     ft1=input()\n",
    "#     ft2=input()\n",
    "#     ft3=input()\n",
    "    indata=[ft1,ft2,ft3]\n",
    "    dataset,label=getdata(filename)\n",
    "    testdata=np.array([indata]).astype(float)\n",
    "    dataset,testdata=tonorm1(dataset,testdata)\n",
    "    return knn(4,dataset,label,testdata)\n",
    "knn_predict()"
   ]
  },
  {
   "cell_type": "code",
   "execution_count": null,
   "metadata": {},
   "outputs": [],
   "source": []
  }
 ],
 "metadata": {
  "kernelspec": {
   "display_name": "Python 3",
   "language": "python",
   "name": "python3"
  },
  "language_info": {
   "codemirror_mode": {
    "name": "ipython",
    "version": 3
   },
   "file_extension": ".py",
   "mimetype": "text/x-python",
   "name": "python",
   "nbconvert_exporter": "python",
   "pygments_lexer": "ipython3",
   "version": "3.7.1"
  }
 },
 "nbformat": 4,
 "nbformat_minor": 2
}
