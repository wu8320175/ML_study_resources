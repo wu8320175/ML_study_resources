{
 "cells": [
  {
   "cell_type": "code",
   "execution_count": 129,
   "metadata": {},
   "outputs": [],
   "source": [
    "import numpy as np\n",
    "import os\n",
    "from collections import Counter"
   ]
  },
  {
   "cell_type": "code",
   "execution_count": 5,
   "metadata": {},
   "outputs": [],
   "source": [
    "def getdata(filename):\n",
    "    items=[]\n",
    "    label=[]\n",
    "    with open(filename,'r') as f:\n",
    "        for item in f.readlines():\n",
    "            itemrow=item.replace('\\n','').split('\\t')\n",
    "            items.append(itemrow[:3])\n",
    "            label.append(itemrow[-1])\n",
    "    data=np.array(items)\n",
    "    label=np.array(label)\n",
    "    return data.astype(float),label"
   ]
  },
  {
   "cell_type": "code",
   "execution_count": 83,
   "metadata": {},
   "outputs": [],
   "source": [
    "#数值归一化，特征缩放\n",
    "def tonorm(dataset):\n",
    "    for col in range(dataset.shape[1]):\n",
    "        maxnum=dataset[:,col].max()\n",
    "        minnum=dataset[:,col].min()\n",
    "        s=maxnum-minnum\n",
    "        dataset[:,col]=(dataset[:,col]-minnum)/s\n",
    "    return dataset\n"
   ]
  },
  {
   "cell_type": "code",
   "execution_count": 67,
   "metadata": {},
   "outputs": [],
   "source": [
    "#数值归一化，特征缩放\n",
    "def tonorm1(dataset,testdata):\n",
    "    for col in range(dataset.shape[1]):\n",
    "        maxnum=dataset[:,col].max()\n",
    "        minnum=dataset[:,col].min()\n",
    "        maxnum1=testdata[:,col].max()\n",
    "        minnum1=testdata[:,col].min()\n",
    "#         if maxnum1>maxnum:\n",
    "#             maxnum=maxnum1\n",
    "#         if minnum1<minnum:\n",
    "#             minnum=minnum1\n",
    "        s=maxnum-minnum\n",
    "        testdata[:,col]=(testdata[:,col]-minnum)/s\n",
    "        dataset[:,col]=(dataset[:,col]-minnum)/s\n",
    "    return dataset,testdata"
   ]
  },
  {
   "cell_type": "code",
   "execution_count": 80,
   "metadata": {},
   "outputs": [],
   "source": [
    "#knn关键算法\n",
    "#dataset:训练数据集;label:标签;traindata:测试数据\n",
    "def knn(k,dataset,label,traindata):\n",
    "    traindata=np.array(list(traindata))\n",
    "    dataset=np.array(list(dataset)).astype(float)\n",
    "    label=np.array(list(label))\n",
    "    label=label.reshape(len(label),-1)\n",
    "    dl=np.append(dataset,label,axis=1)\n",
    "    result=[]\n",
    "    for cr_data in traindata:\n",
    "        #计算距离\n",
    "        ret=np.sum((cr_data-dataset)**2,axis=1)\n",
    "        ret1=np.sqrt(ret).reshape(len(ret),1)\n",
    "        #拼接数组，按距离排序\n",
    "        x=np.append(dl,ret1,axis=1)\n",
    "        ret2=x[np.lexsort(ret1.T)] #对ret1进行排序取索引(数组值从小到大的索引值)\n",
    "        #取前k个\n",
    "        retk=ret2[0:k,]\n",
    "        predict=Counter(retk[:,-2]).most_common(1)\n",
    "        r_row=list(cr_data)\n",
    "        r_row.append(predict[0][0])\n",
    "        result.append(r_row)\n",
    "    return result\n",
    "\n",
    "# test=[[101,20]]\n",
    "# #初始化\n",
    "# group=[[1,101],[5,89],[108,5],[115,8]]\n",
    "# label=['爱情片','爱情片','动作片','动作片']\n",
    "# knn(3,group,label,test)\n",
    "    "
   ]
  },
  {
   "cell_type": "code",
   "execution_count": 84,
   "metadata": {},
   "outputs": [
    {
     "name": "stdout",
     "output_type": "stream",
     "text": [
      "错误率: 3.0 %\n"
     ]
    }
   ],
   "source": [
    "#训练算法，并计算knn错误率\n",
    "def datatest(filename,radio):\n",
    "    #radio做测试，1-radio做训练数据\n",
    "    #取数据\n",
    "    dataset,label=getdata(filename)\n",
    "    #数值归一化\n",
    "    dataset=tonorm(dataset)\n",
    "    #取行数，分类数据数量\n",
    "    rowtotal=dataset.shape[0]\n",
    "\n",
    "    testnum=int(rowtotal*radio)\n",
    "    trainnum=int(rowtotal-testnum)\n",
    "    testdata=dataset[0:testnum,:]\n",
    "    testlabel=label[0:testnum]\n",
    "\n",
    "    traindata=dataset[testnum:trainnum,:]\n",
    "    trainlabel=label[testnum:trainnum]\n",
    "    #预测数据\n",
    "    predicts=knn(4,traindata,trainlabel,testdata)\n",
    "    #计算错误率\n",
    "    errnum=0\n",
    "    for item,tlabel in zip(predicts,testlabel):\n",
    "        if item[-1]!=tlabel:\n",
    "            errnum+=1\n",
    "    print('错误率:',errnum/testnum*100,'%')\n",
    "    \n",
    "filename=r'C:\\Users\\Administrator\\Desktop\\ML_project\\Machine-Learning-master\\kNN\\datingTestSet.txt'\n",
    "radio=0.1\n",
    "datatest(filename,radio)"
   ]
  },
  {
   "cell_type": "code",
   "execution_count": 86,
   "metadata": {},
   "outputs": [
    {
     "name": "stdout",
     "output_type": "stream",
     "text": [
      "10000\n",
      "10\n",
      "0.5\n"
     ]
    },
    {
     "data": {
      "text/plain": [
       "[[0.10956142561327008, 0.4780263477606306, 0.294414236399445, 'smallDoses']]"
      ]
     },
     "execution_count": 86,
     "metadata": {},
     "output_type": "execute_result"
    }
   ],
   "source": [
    "#约会预测小程序\n",
    "def knn_predict():\n",
    "    filename=r'C:\\Users\\Administrator\\Desktop\\ML_project\\Machine-Learning-master\\kNN\\datingTestSet.txt'\n",
    "    ft1,ft2,ft3=10000,10,0.5\n",
    "#     ft1=input()\n",
    "#     ft2=input()\n",
    "#     ft3=input()\n",
    "    indata=[ft1,ft2,ft3]\n",
    "    dataset,label=getdata(filename)\n",
    "    testdata=np.array([indata]).astype(float)\n",
    "    dataset,testdata=tonorm1(dataset,testdata)\n",
    "    return knn(4,dataset,label,testdata)\n",
    "knn_predict()"
   ]
  },
  {
   "cell_type": "code",
   "execution_count": 143,
   "metadata": {},
   "outputs": [
    {
     "ename": "KeyboardInterrupt",
     "evalue": "",
     "output_type": "error",
     "traceback": [
      "\u001b[1;31m---------------------------------------------------------------------------\u001b[0m",
      "\u001b[1;31mKeyboardInterrupt\u001b[0m                         Traceback (most recent call last)",
      "\u001b[1;32m<ipython-input-143-6606a3b33c3c>\u001b[0m in \u001b[0;36m<module>\u001b[1;34m\u001b[0m\n\u001b[0;32m     20\u001b[0m \u001b[0mtestdata\u001b[0m\u001b[1;33m,\u001b[0m\u001b[0mtlabel\u001b[0m\u001b[1;33m=\u001b[0m\u001b[0mgetdata\u001b[0m\u001b[1;33m(\u001b[0m\u001b[0mtestmenu\u001b[0m\u001b[1;33m)\u001b[0m\u001b[1;33m\u001b[0m\u001b[1;33m\u001b[0m\u001b[0m\n\u001b[0;32m     21\u001b[0m \u001b[1;31m#print(len(dataset),len(labels))\u001b[0m\u001b[1;33m\u001b[0m\u001b[1;33m\u001b[0m\u001b[1;33m\u001b[0m\u001b[0m\n\u001b[1;32m---> 22\u001b[1;33m \u001b[0mpredicts\u001b[0m\u001b[1;33m=\u001b[0m\u001b[0mknn\u001b[0m\u001b[1;33m(\u001b[0m\u001b[1;36m4\u001b[0m\u001b[1;33m,\u001b[0m\u001b[0mdataset\u001b[0m\u001b[1;33m,\u001b[0m\u001b[0mlabels\u001b[0m\u001b[1;33m,\u001b[0m\u001b[0mtestdata\u001b[0m\u001b[1;33m)\u001b[0m\u001b[1;33m\u001b[0m\u001b[1;33m\u001b[0m\u001b[0m\n\u001b[0m\u001b[0;32m     23\u001b[0m \u001b[0mprint\u001b[0m\u001b[1;33m(\u001b[0m\u001b[0mpredicts\u001b[0m\u001b[1;33m)\u001b[0m\u001b[1;33m\u001b[0m\u001b[1;33m\u001b[0m\u001b[0m\n\u001b[0;32m     24\u001b[0m \u001b[1;31m# filename=r'C:\\Users\\Administrator\\Desktop\\ML_project\\Machine-Learning-master\\kNN\\testDigits\\0_31.txt'\u001b[0m\u001b[1;33m\u001b[0m\u001b[1;33m\u001b[0m\u001b[1;33m\u001b[0m\u001b[0m\n",
      "\u001b[1;32m<ipython-input-80-6608297b3591>\u001b[0m in \u001b[0;36mknn\u001b[1;34m(k, dataset, label, traindata)\u001b[0m\n\u001b[0;32m     14\u001b[0m         \u001b[1;31m#拼接数组，按距离排序\u001b[0m\u001b[1;33m\u001b[0m\u001b[1;33m\u001b[0m\u001b[1;33m\u001b[0m\u001b[0m\n\u001b[0;32m     15\u001b[0m         \u001b[0mx\u001b[0m\u001b[1;33m=\u001b[0m\u001b[0mnp\u001b[0m\u001b[1;33m.\u001b[0m\u001b[0mappend\u001b[0m\u001b[1;33m(\u001b[0m\u001b[0mdl\u001b[0m\u001b[1;33m,\u001b[0m\u001b[0mret1\u001b[0m\u001b[1;33m,\u001b[0m\u001b[0maxis\u001b[0m\u001b[1;33m=\u001b[0m\u001b[1;36m1\u001b[0m\u001b[1;33m)\u001b[0m\u001b[1;33m\u001b[0m\u001b[1;33m\u001b[0m\u001b[0m\n\u001b[1;32m---> 16\u001b[1;33m         \u001b[0mret2\u001b[0m\u001b[1;33m=\u001b[0m\u001b[0mx\u001b[0m\u001b[1;33m[\u001b[0m\u001b[0mnp\u001b[0m\u001b[1;33m.\u001b[0m\u001b[0mlexsort\u001b[0m\u001b[1;33m(\u001b[0m\u001b[0mret1\u001b[0m\u001b[1;33m.\u001b[0m\u001b[0mT\u001b[0m\u001b[1;33m)\u001b[0m\u001b[1;33m]\u001b[0m \u001b[1;31m#对ret1进行排序取索引(数组值从小到大的索引值)\u001b[0m\u001b[1;33m\u001b[0m\u001b[1;33m\u001b[0m\u001b[0m\n\u001b[0m\u001b[0;32m     17\u001b[0m         \u001b[1;31m#取前k个\u001b[0m\u001b[1;33m\u001b[0m\u001b[1;33m\u001b[0m\u001b[1;33m\u001b[0m\u001b[0m\n\u001b[0;32m     18\u001b[0m         \u001b[0mretk\u001b[0m\u001b[1;33m=\u001b[0m\u001b[0mret2\u001b[0m\u001b[1;33m[\u001b[0m\u001b[1;36m0\u001b[0m\u001b[1;33m:\u001b[0m\u001b[0mk\u001b[0m\u001b[1;33m,\u001b[0m\u001b[1;33m]\u001b[0m\u001b[1;33m\u001b[0m\u001b[1;33m\u001b[0m\u001b[0m\n",
      "\u001b[1;31mKeyboardInterrupt\u001b[0m: "
     ]
    }
   ],
   "source": [
    "def img2vector(filename):\n",
    "    vect=[]\n",
    "    with open(filename,'r') as f:\n",
    "        for line in f.readlines():\n",
    "            for num in line.replace('\\n',''): \n",
    "                vect.append(int(num))\n",
    "    return vect\n",
    "\n",
    "def getdata(menu):\n",
    "    numvect=[]\n",
    "    label=[]\n",
    "    for file in os.listdir(menu):\n",
    "        label.append(file.split('_')[0])\n",
    "        numvect.append(img2vector(menu+'\\\\'+file))\n",
    "    return numvect,label\n",
    "\n",
    "testmenu=r'C:\\Users\\Administrator\\Desktop\\ML_project\\Machine-Learning-master\\kNN\\testDigits'\n",
    "trainmenu=r'C:\\Users\\Administrator\\Desktop\\ML_project\\Machine-Learning-master\\kNN\\trainingDigits'\n",
    "dataset,labels=getdata(trainmenu)\n",
    "testdata,tlabel=getdata(testmenu)\n",
    "#print(len(dataset),len(labels))\n",
    "predicts=knn(4,dataset,labels,testdata)\n",
    "print(predicts)\n",
    "# filename=r'C:\\Users\\Administrator\\Desktop\\ML_project\\Machine-Learning-master\\kNN\\testDigits\\0_31.txt'\n",
    "# vect=img2vector(filename)"
   ]
  }
 ],
 "metadata": {
  "kernelspec": {
   "display_name": "Python 3",
   "language": "python",
   "name": "python3"
  },
  "language_info": {
   "codemirror_mode": {
    "name": "ipython",
    "version": 3
   },
   "file_extension": ".py",
   "mimetype": "text/x-python",
   "name": "python",
   "nbconvert_exporter": "python",
   "pygments_lexer": "ipython3",
   "version": "3.7.1"
  }
 },
 "nbformat": 4,
 "nbformat_minor": 2
}
