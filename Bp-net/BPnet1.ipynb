{
 "cells": [
  {
   "cell_type": "code",
   "execution_count": 1,
   "metadata": {},
   "outputs": [],
   "source": [
    "import numpy as np\n",
    "from pathlib import Path\n",
    "import struct#用于数据类型的转换 bytes to str\n",
    "import matplotlib.pyplot as plt\n",
    "from tqdm import trange"
   ]
  },
  {
   "cell_type": "code",
   "execution_count": 2,
   "metadata": {},
   "outputs": [],
   "source": [
    "def Read_img_File(filepath):\n",
    "    with open(filepath,'rb') as f:\n",
    "        struct.unpack('>4i',f.read(16))#4i代表4位整型，int：占4字节，4*8=32bit\n",
    "        data=np.fromfile(f,dtype=np.uint8)\n",
    "        return data.reshape(-1,28*28)\n",
    "    \n",
    "def Read_label_File(filepath):\n",
    "    with open(filepath,'rb') as f:\n",
    "        struct.unpack('>2i',f.read(8))\n",
    "        data=np.fromfile(f,dtype=np.uint8)\n",
    "        return data\n",
    "def loadDataSets():\n",
    "    train_img_path='handwrite/train-images.idx3-ubyte'\n",
    "    train_label_path='handwrite/train-labels.idx1-ubyte'\n",
    "    test_img_path='handwrite/t10k-images.idx3-ubyte'\n",
    "    test_label_path='handwrite/t10k-labels.idx1-ubyte'\n",
    "    train_img=Read_img_File(train_img_path)\n",
    "    train_label=Read_label_File(train_label_path)\n",
    "    test_img=Read_img_File(test_img_path)\n",
    "    test_label=Read_label_File(test_label_path)\n",
    "    return train_img,train_label,test_img,test_label\n",
    "train_img,train_label,test_img,test_label=loadDataSets()\n"
   ]
  },
  {
   "cell_type": "code",
   "execution_count": 3,
   "metadata": {},
   "outputs": [],
   "source": [
    "#激活函数\n",
    "def sigmoid(z):\n",
    "    return 1/(1+np.exp(-z))\n",
    "#激活函数导数\n",
    "def d_sigmoid(z):\n",
    "    s=sigmoid(z)\n",
    "    return s*(1-s)\n",
    "#初始化权重矩阵\n",
    "def theta_init(layer_activity_num):\n",
    "    theta=[]\n",
    "    for i in range(len(layer_activity_num)-1):\n",
    "        m=layer_activity_num[0]+layer_activity_num[-1]\n",
    "        theta_temp=np.random.uniform(-np.sqrt(6/m),np.sqrt(6/m),size=(layer_activity_num[i+1],layer_activity_num[i]+1))\n",
    "        theta.append(theta_temp)\n",
    "    return theta"
   ]
  },
  {
   "cell_type": "code",
   "execution_count": 4,
   "metadata": {},
   "outputs": [],
   "source": [
    "#正向传播\n",
    "def ForwardPropagation(X,theta):\n",
    "    #a=X.T #某层的激活项\n",
    "    a=X\n",
    "    activity=[]#记录所有层的激活项\n",
    "    activity.append(a)\n",
    "    for i in range(len(theta)):\n",
    "        a=np.vstack([np.ones((1,a.shape[1])),a])#添加偏置单元\n",
    "        Z=theta[i].dot(a)#矩阵相乘得到Z\n",
    "        a=sigmoid(Z)#计算下一层激活项a\n",
    "        activity.append(a)\n",
    "    return activity"
   ]
  },
  {
   "cell_type": "code",
   "execution_count": 5,
   "metadata": {},
   "outputs": [],
   "source": [
    "#计算代价\n",
    "def cost_function(theta,Y_predict,Y,Lamaba):\n",
    "    m=Y.shape[1]\n",
    "    part1=-(Y*np.log(Y_predict)+(1-Y)*np.log(1-Y_predict)).sum()/m\n",
    "    part2=0\n",
    "    for i in range(len(theta)):\n",
    "        part2+=((np.delete(theta[i],0,axis=1)**2).sum()*Lamaba)/(2*m)\n",
    "    J=part1+part2\n",
    "    return J"
   ]
  },
  {
   "cell_type": "code",
   "execution_count": 6,
   "metadata": {},
   "outputs": [],
   "source": [
    "#反向传播,小批量梯度下降\n",
    "#计算出所有的偏导数\n",
    "def Backpropagation(activity,theta,Y,lamada):\n",
    "    #1.计算误差项\n",
    "    err_list=[]\n",
    "    d_theta_list=[]\n",
    "    err=activity[-1]-Y #输出层的误差\n",
    "    err_list.append(err)\n",
    "    #从theta最后一层向前传播\n",
    "    ix=len(theta)-1\n",
    "    count_i=0\n",
    "    while ix>=0:\n",
    "        theta_temp=np.delete(theta[ix],0,axis=1)\n",
    "        #计算前一层的误差\n",
    "        err=theta_temp.T.dot(err)*d_sigmoid(activity[ix])\n",
    "        err_list.insert(0,err)\n",
    "        #2.求各个theta的偏导\n",
    "        #给每一列激活项添加偏置项\n",
    "        activity_temp=np.vstack([np.ones((1,activity[ix].shape[1])),activity[ix]]).T\n",
    "        #用于更新偏导的theta临时变量，加上一层偏置项0\n",
    "        theta_temp=np.hstack([np.zeros((theta_temp.shape[0],1)),theta_temp])\n",
    "        #取前一层误差\n",
    "        err_temp=err_list[1]\n",
    "        #用于所有偏导阵相加的零阵\n",
    "        d_theta=np.zeros((theta[ix].shape[0],theta[ix].shape[1]))\n",
    "        m=activity_temp.shape[0]\n",
    "        #m：样本数\n",
    "        for act_ix in range(m):   \n",
    "            #某一个样本的偏导矩阵\n",
    "            d_theta_temp=err_temp[:,act_ix].reshape(-1,1)*activity_temp[act_ix]\n",
    "            d_theta+=d_theta_temp #每一个样本计算的偏导矩阵叠加\n",
    "            d_theta=d_theta/m+theta_temp*(lamada/m)#计算该层所有的偏导\n",
    "        #得到一个偏导叠加的矩阵\n",
    "        d_theta_list.insert(0,d_theta)\n",
    "        ix-=1\n",
    "    return d_theta_list\n"
   ]
  },
  {
   "cell_type": "code",
   "execution_count": 7,
   "metadata": {},
   "outputs": [],
   "source": [
    "#预测 x:列向量\n",
    "def predict(X,theta):\n",
    "    activity=ForwardPropagation(X,theta)\n",
    "    Y=activity[-1]\n",
    "    return np.argmax(Y,axis=0)"
   ]
  },
  {
   "cell_type": "code",
   "execution_count": 8,
   "metadata": {},
   "outputs": [],
   "source": [
    "def show_img(img):\n",
    "    plt.imshow(img.reshape(28,28),cmap='gray')"
   ]
  },
  {
   "cell_type": "code",
   "execution_count": 9,
   "metadata": {},
   "outputs": [],
   "source": [
    "#layer=[28*28,28*28,10]\n",
    "#theta1=theta_init(layer)\n",
    "def model_test(theta):\n",
    "    testnum=10000\n",
    "    x=test_img[0:testnum].T\n",
    "    y=test_label[0:testnum]\n",
    "    y_p=predict(x,theta)\n",
    "    counti=0\n",
    "    for y_1,y_2 in zip(y,y_p):\n",
    "        if(y_1!=y_2):\n",
    "            counti+=1\n",
    "    err_rate=counti/testnum\n",
    "    right_rate=1-err_rate\n",
    "    print(\"分类错误个数为：\",counti,'分类正确数：',testnum-counti)\n",
    "    print('正确率:',right_rate)"
   ]
  },
  {
   "cell_type": "code",
   "execution_count": 29,
   "metadata": {},
   "outputs": [],
   "source": [
    "def train(theta):\n",
    "    #测试数量\n",
    "    test_num=9000\n",
    "    #每一批的数量\n",
    "    batch_num=10\n",
    "    #输入值X\n",
    "    X=train_img[:test_num,:].T\n",
    "    #标签对应的向量Y\n",
    "    Y_label=train_label[:test_num]\n",
    "    Y_exa=np.identity(10)\n",
    "    Y=Y_exa[Y_label[0]].reshape(-1,1)\n",
    "    for i in range(1,Y_label.shape[0]):\n",
    "        Y=np.hstack([Y,Y_exa[Y_label[i]].reshape(-1,1)])\n",
    "    #print(X.shape,Y.shape)#(784,20000) (10, 20000)\n",
    "    #---生成Y-----\n",
    "    #开始训练\n",
    "    #初始化参数：\n",
    "    layer=[28*28,28*28,10]\n",
    "    lamada=1#正则化参数\n",
    "    learn_rate=0.04#学习率\n",
    "    #theta=theta_init(layer)\n",
    "    cycle_num=int(test_num/batch_num)\n",
    "    for turn_num in trange(cycle_num):\n",
    "        #print(\"正在进行第%s轮\"%(turn_num+1))\n",
    "        X_t=X[:,turn_num*batch_num:(turn_num+1)*batch_num]\n",
    "        Y_t=Y[:,turn_num*batch_num:(turn_num+1)*batch_num]\n",
    "        #正向传播，得到每一层的激活项\n",
    "        activity=ForwardPropagation(X_t,theta)\n",
    "        #J=cost_function(theta,activity[-1],Y_t,lamada)\n",
    "        #print(\"当前的代价：\",J)\n",
    "        #反向传播，得到每一层的偏导矩阵\n",
    "        d_theta_list=Backpropagation(activity,theta,Y_t,lamada)\n",
    "        #更新theta\n",
    "        for i in range(len(theta)):\n",
    "            if turn_num%(cycle_num/3)==0:\n",
    "                learn_rate=learn_rate*0.5\n",
    "            theta[i]=theta[i]-learn_rate*d_theta_list[i]\n",
    "    print('训练完毕！')\n",
    "    return theta\n",
    "    #0.3  分类错误个数为： 6965 正确率: 0.3035 \n",
    "    #0.04 分类错误个数为： 2632 正确率: 0.7368\n",
    "    #0.01 分类错误个数为： 2577 正确率: 0.7423\n",
    "    #0.003-0.009\n",
    "    #0.001分类错误个数为： 3565 正确率: 0.6435\n",
    "    #0.03-0.015    分类错误个数为： 2644  正确率: 0.7356\n",
    "    #0.04 分类错误个数为： 2163 分类正确数： 7837 正确率: 0.7837000000000001\n",
    "    #分类错误个数为： 2046 分类正确数： 7954 正确率: 0.7954\n",
    "    #分类错误个数为： 2085 分类正确数： 7915 正确率: 0.7915"
   ]
  },
  {
   "cell_type": "code",
   "execution_count": 25,
   "metadata": {},
   "outputs": [],
   "source": [
    "def train1():\n",
    "    #测试数量\n",
    "    test_num=3000\n",
    "    #每一批的数量\n",
    "    batch_num=10\n",
    "    #输入值X\n",
    "    X=train_img[:test_num,:].T\n",
    "    #标签对应的向量Y\n",
    "    Y_label=train_label[:test_num]\n",
    "    Y_exa=np.identity(10)\n",
    "    Y=Y_exa[Y_label[0]].reshape(-1,1)\n",
    "    for i in range(1,Y_label.shape[0]):\n",
    "        Y=np.hstack([Y,Y_exa[Y_label[i]].reshape(-1,1)])\n",
    "    #print(X.shape,Y.shape)#(784,20000) (10, 20000)\n",
    "    #---生成Y-----\n",
    "    #开始训练\n",
    "    #初始化参数：\n",
    "    layer=[28*28,28*28,10]\n",
    "    lamada=1#正则化参数\n",
    "    learn_rate=0.04#学习率\n",
    "    theta=theta_init(layer)\n",
    "    #学习轮数\n",
    "    turn_total=3\n",
    "    cycle_num=turn_total*int(test_num/batch_num)\n",
    "    print(\"训练轮数：\",turn_total)\n",
    "    for turn_num in trange(cycle_num):\n",
    "        #print(\"正在进行第%s轮\"%(turn_num+1))\n",
    "        turn=turn_num%test_num\n",
    "        X_t=X[:,turn*batch_num:(turn+1)*batch_num]\n",
    "        Y_t=Y[:,turn*batch_num:(turn+1)*batch_num]\n",
    "        #正向传播，得到每一层的激活项\n",
    "        activity=ForwardPropagation(X_t,theta)\n",
    "        #J=cost_function(theta,activity[-1],Y_t,lamada)\n",
    "        #print(\"当前的代价：\",J)\n",
    "        #反向传播，得到每一层的偏导矩阵\n",
    "        d_theta_list=Backpropagation(activity,theta,Y_t,lamada)\n",
    "        #更新theta\n",
    "        for i in range(len(theta)):\n",
    "            if turn_num%(cycle_num/3)==0:\n",
    "                learn_rate=learn_rate*0.5\n",
    "            theta[i]=theta[i]-learn_rate*d_theta_list[i]\n",
    "    print('训练完毕！')\n",
    "    return theta\n",
    "    #分类错误个数为： 3048 分类正确数： 6952 正确率: 0.6952\n",
    "\n",
    "    #"
   ]
  },
  {
   "cell_type": "code",
   "execution_count": 27,
   "metadata": {
    "scrolled": true
   },
   "outputs": [
    {
     "name": "stderr",
     "output_type": "stream",
     "text": [
      "  0%|                                                  | 0/900 [00:00<?, ?it/s]G:\\WorkProgram\\anaconda\\lib\\site-packages\\ipykernel_launcher.py:3: RuntimeWarning: overflow encountered in exp\n",
      "  This is separate from the ipykernel package so we can avoid doing imports until\n",
      "100%|████████████████████████████████████████| 900/900 [02:09<00:00,  7.10it/s]\n"
     ]
    },
    {
     "name": "stdout",
     "output_type": "stream",
     "text": [
      "训练完毕！\n"
     ]
    }
   ],
   "source": [
    "theta=train()"
   ]
  },
  {
   "cell_type": "code",
   "execution_count": 92,
   "metadata": {},
   "outputs": [
    {
     "name": "stdout",
     "output_type": "stream",
     "text": [
      "分类错误个数为： 2085 分类正确数： 7915\n",
      "正确率: 0.7915\n"
     ]
    }
   ],
   "source": [
    "model_test(theta)"
   ]
  },
  {
   "cell_type": "code",
   "execution_count": 104,
   "metadata": {},
   "outputs": [],
   "source": [
    "import pickle\n",
    "with open('bpnet-model.txt','wb') as f:\n",
    "    pickle.dump(theta,f)\n",
    "\n",
    "    "
   ]
  },
  {
   "cell_type": "code",
   "execution_count": 111,
   "metadata": {},
   "outputs": [
    {
     "name": "stdout",
     "output_type": "stream",
     "text": [
      "[array([[ 1.91287149e-02, -1.00207838e-02, -1.48426785e-03, ...,\n",
      "        -1.10369128e-02,  1.06567585e-02, -2.87644993e-04],\n",
      "       [ 8.37091927e-02, -7.75219508e-03,  1.26451267e-02, ...,\n",
      "        -5.25897570e-03,  9.01608021e-03,  7.46503121e-03],\n",
      "       [ 1.84484443e-02, -5.00909106e-03, -3.45491371e-03, ...,\n",
      "         6.24697432e-03, -4.68110481e-03,  1.13486784e-02],\n",
      "       ...,\n",
      "       [ 2.92631834e-02, -6.63872922e-03,  2.66266608e-04, ...,\n",
      "        -2.58487560e-03,  1.42233964e-02, -9.49787915e-03],\n",
      "       [ 3.80019381e-02,  1.45654355e-02,  4.14948971e-03, ...,\n",
      "         3.60423772e-05,  4.13600197e-04,  9.97979903e-05],\n",
      "       [ 1.22037222e-03,  5.43231851e-04,  5.84286590e-03, ...,\n",
      "         3.50276719e-03,  1.76444902e-04,  5.06412413e-04]]), array([[ 4.18981420e-02,  8.97614960e-03, -1.61044649e-02, ...,\n",
      "         6.72716551e-03, -1.61234093e-02, -2.13491335e-02],\n",
      "       [ 6.05297127e-02, -2.74809495e-03,  3.07214259e-02, ...,\n",
      "         1.10074717e-02, -3.40526902e-03, -7.64575860e-03],\n",
      "       [-3.30041605e-02, -9.59136480e-04,  3.58364369e-03, ...,\n",
      "         3.90078360e-03,  3.96143111e-03, -2.00775492e-03],\n",
      "       ...,\n",
      "       [-9.73502293e-02, -1.56390523e-02, -3.78249708e-03, ...,\n",
      "        -1.33940334e-02, -2.42589532e-02, -1.99295022e-02],\n",
      "       [ 1.78235075e-02,  8.90797154e-03, -1.13127567e-02, ...,\n",
      "         2.82191766e-03, -6.89312023e-05, -1.27467093e-02],\n",
      "       [-6.22572185e-02,  7.05323764e-03, -1.58518413e-02, ...,\n",
      "         1.03801605e-02, -1.70354053e-02, -1.79883729e-02]])]\n"
     ]
    }
   ],
   "source": [
    "with open('bpnet-model.txt','rb') as f:\n",
    "    print(pickle.load(f))"
   ]
  },
  {
   "cell_type": "code",
   "execution_count": 91,
   "metadata": {},
   "outputs": [
    {
     "name": "stdout",
     "output_type": "stream",
     "text": [
      "label: 1\n",
      "预测值 [8]\n"
     ]
    },
    {
     "data": {
      "image/png": "[encoded data removed]",
      "text/plain": [
       "<Figure size 432x288 with 1 Axes>"
      ]
     },
     "metadata": {
      "needs_background": "light"
     },
     "output_type": "display_data"
    }
   ],
   "source": [
    "import random\n",
    "rd=random.randint(0,1000)\n",
    "x=test_img[rd].reshape(-1,1)\n",
    "y=test_label[rd]\n",
    "y_p=predict(x,theta)\n",
    "show_img(x)\n",
    "print('label:',y)\n",
    "print('预测值',y_p)"
   ]
  }
 ],
 "metadata": {
  "kernelspec": {
   "display_name": "Python 3",
   "language": "python",
   "name": "python3"
  },
  "language_info": {
   "codemirror_mode": {
    "name": "ipython",
    "version": 3
   },
   "file_extension": ".py",
   "mimetype": "text/x-python",
   "name": "python",
   "nbconvert_exporter": "python",
   "pygments_lexer": "ipython3",
   "version": "3.7.1"
  }
 },
 "nbformat": 4,
 "nbformat_minor": 2
}
