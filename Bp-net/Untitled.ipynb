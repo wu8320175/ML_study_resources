{
 "cells": [
  {
   "cell_type": "code",
   "execution_count": 1,
   "metadata": {},
   "outputs": [],
   "source": [
    "import numpy as np\n",
    "from pathlib import Path\n",
    "import struct#用于数据类型的转换 bytes to str\n",
    "import matplotlib.pyplot as plt\n",
    "from tqdm import trange\t# 替换range()可实现动态进度条，可忽略"
   ]
  },
  {
   "cell_type": "code",
   "execution_count": 2,
   "metadata": {},
   "outputs": [],
   "source": [
    "def Read_img_File(filepath):\n",
    "    with open(filepath,'rb') as f:\n",
    "        struct.unpack('>4i',f.read(16))#4i代表4位整型，int：占4字节，4*8=32bit\n",
    "        data=np.fromfile(f,dtype=np.uint8)\n",
    "        return data.reshape(-1,28*28)\n",
    "    \n",
    "def Read_label_File(filepath):\n",
    "    with open(filepath,'rb') as f:\n",
    "        struct.unpack('>2i',f.read(8))\n",
    "        data=np.fromfile(f,dtype=np.uint8)\n",
    "        return data\n",
    "def loadDataSets():\n",
    "    train_img_path='handwrite/train-images.idx3-ubyte'\n",
    "    train_label_path='handwrite/train-labels.idx1-ubyte'\n",
    "    test_img_path='handwrite/t10k-images.idx3-ubyte'\n",
    "    test_label_path='handwrite/t10k-labels.idx1-ubyte'\n",
    "    train_img=Read_img_File(train_img_path)\n",
    "    train_label=Read_label_File(train_label_path)\n",
    "    test_img=Read_img_File(test_img_path)\n",
    "    test_label=Read_label_File(test_label_path)\n",
    "    return train_img,train_label,test_img,test_label\n",
    "train_img,train_label,test_img,test_label=loadDataSets()\n"
   ]
  },
  {
   "cell_type": "code",
   "execution_count": 3,
   "metadata": {},
   "outputs": [],
   "source": [
    "\n",
    "def sigmoid(x): # 激活函数采用Sigmoid\n",
    "    return 1 / (1 + np.exp(-x))\n",
    "\n",
    "\n",
    "def sigmoid_derivative(x):\t# Sigmoid的导数\n",
    "    return sigmoid(x) * (1 - sigmoid(x))\n",
    "\n",
    "\n",
    "class NeuralNetwork:\t# 神经网络\n",
    "    def __init__(self, layers):\t# layers为神经元个数列表\n",
    "        \n",
    "        self.activation = sigmoid\t# 激活函数\n",
    "        self.activation_deriv = sigmoid_derivative\t# 激活函数导数\n",
    "        \n",
    "        self.weights = []\t# 权重列表\n",
    "        self.bias = []\t# 偏置列表\n",
    "        \n",
    "        #初始化各层的参数\n",
    "        for i in range(1, len(layers)):\t# 正态分布初始化\n",
    "            self.weights.append(np.random.randn(layers[i-1], layers[i]))\n",
    "            self.bias.append(np.random.randn(layers[i]))\n",
    "    \n",
    "    def fit(self, x, y, learning_rate=0.2, epochs=3):\t# 反向传播算法\n",
    "        x = np.atleast_2d(x)\n",
    "        n = len(y)\t# 样本数\n",
    "        p = max(n, epochs)\t# 样本过少时根据epochs减半学习率\n",
    "        y = np.array(y)\n",
    "        \n",
    "        for k in trange(epochs * n):\t# 带进度条的训练过程\n",
    "            if (k+1) % p == 0:\n",
    "                learning_rate *= 0.5\t# 每训练完一代样本减半学习率\n",
    "                \n",
    "            a = [x[k % n]]\t# 保存各层激活值的列表\n",
    "            # 正向传播开始\n",
    "            for lay in range(len(self.weights)):\n",
    "                a.append(self.activation(np.dot(a[lay], self.weights[lay]) + self.bias[lay]))\n",
    "            # 反向传播开始\n",
    "            label = np.zeros(a[-1].shape)\n",
    "            label[y[k % n]] = 1\t# 根据类号生成标签\n",
    "            error = label - a[-1]\t# 误差值\n",
    "            deltas = [error * self.activation_deriv(a[-1])]\t# 保存各层误差值的列表\n",
    "\n",
    "            layer_num = len(a) - 2\t# 导数第二层开始\n",
    "            for j in range(layer_num, 0, -1):\n",
    "                deltas.append(deltas[-1].dot(self.weights[j].T) * self.activation_deriv(a[j]))\t# 误差的反向传播\n",
    "            deltas.reverse()\n",
    "            for i in range(len(self.weights)):\t# 正向更新权值\n",
    "                layer = np.atleast_2d(a[i])\n",
    "                delta = np.atleast_2d(deltas[i])\n",
    "                self.weights[i] += learning_rate * layer.T.dot(delta)\n",
    "                self.bias[i] += learning_rate * deltas[i]\n",
    "\n",
    "    def predict(self, x):\t# 预测\n",
    "        a = np.array(x, dtype=np.float)\n",
    "        for lay in range(0, len(self.weights)):\t# 正向传播\n",
    "            a = self.activation(np.dot(a, self.weights[lay]) + self.bias[lay])\n",
    "        a = list(100 * a/sum(a))\t# 改为百分比显示\n",
    "        i = a.index(max(a))\t# 预测值\n",
    "        per = []\t# 各类的置信程度\n",
    "        for num in a:\n",
    "            per.append(str(round(num, 2))+'%')\n",
    "        return i, per\n",
    "\n"
   ]
  },
  {
   "cell_type": "code",
   "execution_count": 4,
   "metadata": {},
   "outputs": [],
   "source": [
    "# from NeuralNetwork import NeuralNetwork\n",
    "# import numpy as np\n",
    "import pickle\n",
    "# import csv\n",
    "\n",
    "\n",
    "def train(x,y,x_t,y_t):\n",
    "#     file_name = 'data/train.csv'\t# 数据集为42000张带标签的28x28手写数字图像\n",
    "#     y = []\n",
    "#     x = []\n",
    "#     y_t = []\n",
    "#     x_t = []\n",
    "#     with open(file_name, 'r') as f:\n",
    "#         reader = csv.reader(f)\n",
    "#         header_row = next(reader)\n",
    "#         print(header_row)\n",
    "#         for row in reader:\n",
    "#             if np.random.random() < 0.8:\t# 大约80%的数据用于训练\n",
    "#                 y.append(int(row[0]))\n",
    "#                 x.append(list(map(int, row[1:])))\n",
    "#             else:\n",
    "#                 y_t.append(int(row[0]))\n",
    "#                 x_t.append(list(map(int, row[1:])))\n",
    "\n",
    "    len_train = len(y)\n",
    "    len_test = len(y_t)\n",
    "    print('训练集大小%d，测试集大小%d' % (len_train, len_test))\n",
    "    x = np.array(x)\n",
    "    y = np.array(y)\n",
    "    nn = NeuralNetwork([784, 784, 10])\t# 神经网络各层神经元个数\n",
    "    nn.fit(x, y)\n",
    "    file = open('NN.txt', 'wb')\n",
    "    pickle.dump(nn, file)\n",
    "    count = 0\n",
    "    for i in range(len_test):\n",
    "        p, _ = nn.predict(x_t[i])\n",
    "        if p == y_t[i]:\n",
    "            count += 1\n",
    "    print('模型识别正确率：', count/len_test)\n",
    "\n",
    "\n",
    "def mini_test():\t# 小型测试，验证神经网络能正常运行\n",
    "    x = [[0, 0], [0, 1], [1, 0], [1, 1]]\n",
    "    y = [0, 1, 2, 3]\n",
    "    nn = NeuralNetwork([2, 4, 16, 4])\n",
    "    nn.fit(x, y, epochs=10000)\n",
    "    for i in x:\n",
    "        print(nn.predict(i))\n",
    "\n",
    "\n",
    "#mini_test()\n",
    "\n",
    "\n"
   ]
  },
  {
   "cell_type": "code",
   "execution_count": 6,
   "metadata": {},
   "outputs": [
    {
     "name": "stdout",
     "output_type": "stream",
     "text": [
      "训练集大小2000，测试集大小1000\n"
     ]
    },
    {
     "name": "stderr",
     "output_type": "stream",
     "text": [
      "100%|█████████████████████████████████████| 6000/6000 [00:47<00:00, 126.97it/s]\n"
     ]
    },
    {
     "name": "stdout",
     "output_type": "stream",
     "text": [
      "模型识别正确率： 0.827\n"
     ]
    }
   ],
   "source": [
    "x=train_img[0:2000]\n",
    "y=train_label[0:2000]\n",
    "x_t=test_img[0:1000]\n",
    "y_t=test_label[0:1000]\n",
    "train(x,y,x_t,y_t)\n"
   ]
  }
 ],
 "metadata": {
  "kernelspec": {
   "display_name": "Python 3",
   "language": "python",
   "name": "python3"
  },
  "language_info": {
   "codemirror_mode": {
    "name": "ipython",
    "version": 3
   },
   "file_extension": ".py",
   "mimetype": "text/x-python",
   "name": "python",
   "nbconvert_exporter": "python",
   "pygments_lexer": "ipython3",
   "version": "3.7.1"
  }
 },
 "nbformat": 4,
 "nbformat_minor": 2
}
