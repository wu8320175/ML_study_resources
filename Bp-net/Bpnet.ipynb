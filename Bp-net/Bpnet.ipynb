{
 "cells": [
  {
   "cell_type": "code",
   "execution_count": 37,
   "metadata": {},
   "outputs": [],
   "source": [
    "import numpy as np\n",
    "from pathlib import Path\n",
    "import struct#用于数据类型的转换 bytes to str\n",
    "import matplotlib.pyplot as plt"
   ]
  },
  {
   "cell_type": "code",
   "execution_count": 36,
   "metadata": {},
   "outputs": [],
   "source": [
    "def Read_img_File(filepath):\n",
    "    with open(filepath,'rb') as f:\n",
    "        struct.unpack('>4i',f.read(16))#4i代表4位整型，int：占4字节，4*8=32bit\n",
    "        data=np.fromfile(f,dtype=np.uint8)\n",
    "        return data.reshape(-1,28*28)\n",
    "    \n",
    "def Read_label_File(filepath):\n",
    "    with open(filepath,'rb') as f:\n",
    "        struct.unpack('>2i',f.read(8))\n",
    "        data=np.fromfile(f,dtype=np.uint8)\n",
    "        return data\n",
    "def loadDataSets():\n",
    "    train_img_path='handwrite/train-images.idx3-ubyte'\n",
    "    train_label_path='handwrite/train-labels.idx1-ubyte'\n",
    "    test_img_path='handwrite/t10k-images.idx3-ubyte'\n",
    "    test_label_path='handwrite/t10k-labels.idx1-ubyte'\n",
    "    train_img=Read_img_File(train_img_path)\n",
    "    train_label=Read_label_File(train_label_path)\n",
    "    test_img=Read_img_File(test_img_path)\n",
    "    test_label=Read_label_File(test_label_path)\n",
    "    return train_img,train_label,test_img,test_label\n",
    "train_img,train_label,test_img,test_label=loadDataSets()\n"
   ]
  },
  {
   "cell_type": "code",
   "execution_count": 43,
   "metadata": {},
   "outputs": [
    {
     "name": "stdout",
     "output_type": "stream",
     "text": [
      "label: 5\n"
     ]
    },
    {
     "data": {
      "image/png": "[encoded data removed]",
      "text/plain": [
       "<Figure size 432x288 with 1 Axes>"
      ]
     },
     "metadata": {
      "needs_background": "light"
     },
     "output_type": "display_data"
    }
   ],
   "source": [
    "def show_img(img):\n",
    "    plt.imshow(img.reshape(28,28),cmap='gray')\n",
    "show_img(train_img[0])\n",
    "print('label:',train_label[0])"
   ]
  },
  {
   "cell_type": "code",
   "execution_count": 44,
   "metadata": {},
   "outputs": [
    {
     "name": "stdout",
     "output_type": "stream",
     "text": [
      "(60000, 784) (60000,)\n"
     ]
    }
   ],
   "source": [
    "print(train_img.shape,train_label.shape)"
   ]
  },
  {
   "cell_type": "code",
   "execution_count": 115,
   "metadata": {},
   "outputs": [
    {
     "name": "stdout",
     "output_type": "stream",
     "text": [
      "[array([[ 0.02324871, -0.01645236, -0.04711592, ..., -0.02343539,\n",
      "        -0.00321856,  0.01852405],\n",
      "       [-0.00996692, -0.03172074,  0.01507299, ...,  0.02484151,\n",
      "        -0.03432506, -0.01169094],\n",
      "       [-0.06921828, -0.0718516 , -0.01834473, ...,  0.07694013,\n",
      "         0.06350388,  0.00436009],\n",
      "       ...,\n",
      "       [ 0.02198345, -0.0714965 , -0.08295002, ...,  0.01998184,\n",
      "         0.01115084,  0.07497953],\n",
      "       [ 0.04271905, -0.01354546,  0.08417099, ...,  0.08314746,\n",
      "        -0.02675249,  0.04156705],\n",
      "       [ 0.01245913,  0.06034856, -0.04952406, ..., -0.03614595,\n",
      "        -0.02199128, -0.03793315]]), array([[ 0.05665412,  0.02745212,  0.04451176, ..., -0.08537065,\n",
      "         0.07288527, -0.05460734],\n",
      "       [ 0.06696652,  0.07153458, -0.0003367 , ..., -0.06118479,\n",
      "         0.01772678, -0.03394919],\n",
      "       [ 0.00382465,  0.05949441,  0.00390115, ...,  0.04157018,\n",
      "         0.05316124, -0.0386559 ],\n",
      "       ...,\n",
      "       [ 0.01979744, -0.04074409,  0.07470328, ...,  0.06399092,\n",
      "        -0.04953988,  0.04293612],\n",
      "       [ 0.02072002, -0.0512919 , -0.03183561, ..., -0.08124138,\n",
      "        -0.05705698, -0.0293516 ],\n",
      "       [ 0.04396045,  0.02265417,  0.03165051, ...,  0.06372829,\n",
      "        -0.03642288,  0.03035048]])]\n",
      "(785, 784)\n",
      "(10, 785)\n"
     ]
    }
   ],
   "source": [
    "#确定各层的激活项的个数\n",
    "#输入层：784个，隐藏层数1：784个，输出层1：10个\n",
    "layer_activity_num=[28*28,28*28,10]\n",
    "\n",
    "#激活函数\n",
    "def sigmoid(z):\n",
    "    return 1/(1+np.exp(-z))\n",
    "#\n",
    "def theta_init():\n",
    "    theta=[]\n",
    "    for i in range(len(layer_activity_num)-1):\n",
    "        m=layer_activity_num[0]+layer_activity_num[-1]\n",
    "        theta_temp=np.random.uniform(-np.sqrt(6/m),np.sqrt(6/m),size=(layer_activity_num[i]+1,layer_activity_num[i+1]))\n",
    "        #one_temp=np.ones((1,layer_activity_num[i+1]))\n",
    "        theta.append(theta_temp)\n",
    "    return theta\n",
    "theta=theta_init()\n",
    "print(theta)\n",
    "print(theta[0].shape)\n",
    "print(theta[1].T.shape)\n"
   ]
  },
  {
   "cell_type": "code",
   "execution_count": 127,
   "metadata": {},
   "outputs": [
    {
     "name": "stdout",
     "output_type": "stream",
     "text": [
      "(784, 10000)\n"
     ]
    },
    {
     "data": {
      "text/plain": [
       "(784, 10000)"
      ]
     },
     "execution_count": 127,
     "metadata": {},
     "output_type": "execute_result"
    }
   ],
   "source": [
    "X=train_img[:10000,:].T\n",
    "print(X.shape)\n",
    "X=np.vstack([np.ones((1,X.shape[1])),X])\n",
    "\n",
    "Z=theta[0].T.dot(X)\n",
    "sigmoid(Z).shape\n",
    "#sigmoid(theta[0].T.dot(X))\n"
   ]
  },
  {
   "cell_type": "code",
   "execution_count": 98,
   "metadata": {},
   "outputs": [
    {
     "name": "stdout",
     "output_type": "stream",
     "text": [
      "(10000, 784)\n"
     ]
    },
    {
     "data": {
      "text/plain": [
       "(1, 784)"
      ]
     },
     "execution_count": 98,
     "metadata": {},
     "output_type": "execute_result"
    }
   ],
   "source": [
    "X=train_img[:10000,:]\n",
    "print(X.shape)\n",
    "np.ones((1,X.shape[1])).shape"
   ]
  },
  {
   "cell_type": "code",
   "execution_count": 182,
   "metadata": {},
   "outputs": [
    {
     "name": "stdout",
     "output_type": "stream",
     "text": [
      "(10000, 784) (10, 10000) (10000,)\n"
     ]
    }
   ],
   "source": [
    "#正向传播\n",
    "def ForwardPropagation(X,theta):\n",
    "    a=X.T #某层的激活项\n",
    "    activity=[]#记录所有层的激活项\n",
    "    for i in range(len(layer_activity_num)-1):\n",
    "        a=np.vstack([np.ones((1,a.shape[1])),a])\n",
    "        Z=theta[i].T.dot(a)\n",
    "        a=sigmoid(Z)\n",
    "        activity.append(a)\n",
    "    return activity\n",
    "#输入值\n",
    "X=train_img[:10000,:]\n",
    "#标签对应的向量\n",
    "Y_label=train_label[:10000]\n",
    "Y_exa=np.identity(10)\n",
    "Y=Y_exa[Y_label[0]].reshape(-1,1)\n",
    "for i in range(1,Y_label.shape[0]):\n",
    "    Y=np.hstack([Y,Y_exa[Y_label[i]].reshape(-1,1)])\n",
    "#\n",
    "activity=ForwardPropagation(X,theta)\n",
    "Y_predict=activity[-1]\n",
    "# print(activity)\n",
    "print(X.shape,Y_predict.shape,Y_label.shape)"
   ]
  },
  {
   "cell_type": "code",
   "execution_count": 202,
   "metadata": {},
   "outputs": [
    {
     "data": {
      "text/plain": [
       "array([[4.96697748e-08, 5.03102653e-07, 1.13597574e-07, ...,\n",
       "        3.08550218e-07, 5.89104983e-07, 6.83390451e-08],\n",
       "       [2.39558491e-06, 2.58132619e-06, 1.68264558e-07, ...,\n",
       "        2.95989197e-06, 2.01637135e-06, 9.50520746e-09],\n",
       "       [2.04647860e-06, 4.24385160e-07, 6.21496195e-09, ...,\n",
       "        2.68361285e-06, 4.62604297e-07, 2.08322723e-06],\n",
       "       ...,\n",
       "       [2.41636002e-07, 2.55587500e-06, 3.44035282e-06, ...,\n",
       "        1.99636954e-07, 6.21706595e-08, 2.81096494e-06],\n",
       "       [9.12458793e-07, 9.17397760e-08, 3.54237765e-06, ...,\n",
       "        3.45674992e-06, 3.57847982e-07, 8.63909920e-07],\n",
       "       [7.76150156e-08, 1.82097447e-06, 1.22631606e-06, ...,\n",
       "        6.53264779e-07, 2.41808192e-07, 7.19461968e-07]])"
      ]
     },
     "execution_count": 202,
     "metadata": {},
     "output_type": "execute_result"
    }
   ],
   "source": [
    "((np.delete(theta[0],0,axis=0)**2)*1)/(2*1000)"
   ]
  },
  {
   "cell_type": "code",
   "execution_count": 208,
   "metadata": {},
   "outputs": [
    {
     "name": "stdout",
     "output_type": "stream",
     "text": [
      "(785, 784) (784, 10)\n"
     ]
    },
    {
     "ename": "AttributeError",
     "evalue": "'list' object has no attribute 'shape'",
     "output_type": "error",
     "traceback": [
      "\u001b[1;31m---------------------------------------------------------------------------\u001b[0m",
      "\u001b[1;31mAttributeError\u001b[0m                            Traceback (most recent call last)",
      "\u001b[1;32m<ipython-input-208-c96c42271aeb>\u001b[0m in \u001b[0;36m<module>\u001b[1;34m\u001b[0m\n\u001b[0;32m      1\u001b[0m \u001b[0mprint\u001b[0m\u001b[1;33m(\u001b[0m\u001b[0mtheta\u001b[0m\u001b[1;33m[\u001b[0m\u001b[1;36m0\u001b[0m\u001b[1;33m]\u001b[0m\u001b[1;33m.\u001b[0m\u001b[0mshape\u001b[0m\u001b[1;33m,\u001b[0m\u001b[0mnp\u001b[0m\u001b[1;33m.\u001b[0m\u001b[0mdelete\u001b[0m\u001b[1;33m(\u001b[0m\u001b[0mtheta\u001b[0m\u001b[1;33m[\u001b[0m\u001b[1;36m1\u001b[0m\u001b[1;33m]\u001b[0m\u001b[1;33m,\u001b[0m\u001b[1;36m0\u001b[0m\u001b[1;33m,\u001b[0m\u001b[0maxis\u001b[0m\u001b[1;33m=\u001b[0m\u001b[1;36m0\u001b[0m\u001b[1;33m)\u001b[0m\u001b[1;33m.\u001b[0m\u001b[0mshape\u001b[0m\u001b[1;33m)\u001b[0m\u001b[1;33m\u001b[0m\u001b[1;33m\u001b[0m\u001b[0m\n\u001b[1;32m----> 2\u001b[1;33m \u001b[0mprint\u001b[0m\u001b[1;33m(\u001b[0m\u001b[0mtheta\u001b[0m\u001b[1;33m.\u001b[0m\u001b[0mshape\u001b[0m\u001b[1;33m)\u001b[0m\u001b[1;33m\u001b[0m\u001b[1;33m\u001b[0m\u001b[0m\n\u001b[0m",
      "\u001b[1;31mAttributeError\u001b[0m: 'list' object has no attribute 'shape'"
     ]
    }
   ],
   "source": [
    "print(theta[0].shape,np.delete(theta[1],0,axis=0).shape)\n"
   ]
  },
  {
   "cell_type": "code",
   "execution_count": 218,
   "metadata": {},
   "outputs": [
    {
     "name": "stdout",
     "output_type": "stream",
     "text": [
      "[-1.16344154 -1.01943029 -0.40660572 -0.25186286 -0.52493807 -1.17195972\n",
      " -0.11695655 -0.77646763 -0.46970049 -0.36568822] [0. 0. 0. 0. 0. 1. 0. 0. 0. 0.]\n",
      "[-0.         -0.         -0.         -0.         -0.         -1.17195972\n",
      " -0.         -0.         -0.         -0.        ]\n"
     ]
    },
    {
     "data": {
      "text/plain": [
       "(10, 10000)"
      ]
     },
     "execution_count": 218,
     "metadata": {},
     "output_type": "execute_result"
    }
   ],
   "source": [
    "print(np.log(Y_predict)[:,0],Y[:,0])\n",
    "print(np.log(Y_predict)[:,0]*Y[:,0])\n",
    "\n"
   ]
  },
  {
   "cell_type": "code",
   "execution_count": 219,
   "metadata": {},
   "outputs": [
    {
     "data": {
      "text/plain": [
       "8.557313741570646"
      ]
     },
     "execution_count": 219,
     "metadata": {},
     "output_type": "execute_result"
    }
   ],
   "source": [
    "#计算代价\n",
    "def cost_function(activity,theta,Y_predict,Lamaba):\n",
    "    m=X.shape[0]\n",
    "    part1=-(Y*np.log(Y_predict)+(1-Y)*np.log(1-Y_predict)).sum()/m\n",
    "    part2=0\n",
    "    for i in range(len(theta)):\n",
    "        part2+=((np.delete(theta[i],0,axis=0)**2).sum()*Lamaba)/(2*m)\n",
    "    J=part1+part2\n",
    "    return J\n",
    "\n",
    "lamada=1\n",
    "cost_function(activity,theta,Y_predict,lamada)"
   ]
  },
  {
   "cell_type": "code",
   "execution_count": null,
   "metadata": {},
   "outputs": [],
   "source": [
    "#反向传播\n",
    "def Backpropagation():\n",
    "    "
   ]
  },
  {
   "cell_type": "code",
   "execution_count": 217,
   "metadata": {},
   "outputs": [
    {
     "name": "stdout",
     "output_type": "stream",
     "text": [
      "[[0 1 2 3]] 6\n"
     ]
    },
    {
     "ename": "ValueError",
     "evalue": "all the input array dimensions except for the concatenation axis must match exactly",
     "output_type": "error",
     "traceback": [
      "\u001b[1;31m---------------------------------------------------------------------------\u001b[0m",
      "\u001b[1;31mValueError\u001b[0m                                Traceback (most recent call last)",
      "\u001b[1;32m<ipython-input-217-4979b7aab390>\u001b[0m in \u001b[0;36m<module>\u001b[1;34m\u001b[0m\n\u001b[0;32m      3\u001b[0m \u001b[0mprint\u001b[0m\u001b[1;33m(\u001b[0m\u001b[0ma\u001b[0m\u001b[1;33m,\u001b[0m\u001b[0ma\u001b[0m\u001b[1;33m.\u001b[0m\u001b[0msum\u001b[0m\u001b[1;33m(\u001b[0m\u001b[1;33m)\u001b[0m\u001b[1;33m)\u001b[0m\u001b[1;33m\u001b[0m\u001b[1;33m\u001b[0m\u001b[0m\n\u001b[0;32m      4\u001b[0m \u001b[1;31m# print(b)\u001b[0m\u001b[1;33m\u001b[0m\u001b[1;33m\u001b[0m\u001b[1;33m\u001b[0m\u001b[0m\n\u001b[1;32m----> 5\u001b[1;33m \u001b[0mc\u001b[0m\u001b[1;33m=\u001b[0m\u001b[0mnp\u001b[0m\u001b[1;33m.\u001b[0m\u001b[0mvstack\u001b[0m\u001b[1;33m(\u001b[0m\u001b[1;33m[\u001b[0m\u001b[0ma\u001b[0m\u001b[1;33m,\u001b[0m\u001b[0mb\u001b[0m\u001b[1;33m]\u001b[0m\u001b[1;33m)\u001b[0m\u001b[1;33m\u001b[0m\u001b[1;33m\u001b[0m\u001b[0m\n\u001b[0m\u001b[0;32m      6\u001b[0m \u001b[1;33m\u001b[0m\u001b[0m\n\u001b[0;32m      7\u001b[0m \u001b[0ms\u001b[0m\u001b[1;33m=\u001b[0m\u001b[0mnp\u001b[0m\u001b[1;33m.\u001b[0m\u001b[0mdelete\u001b[0m\u001b[1;33m(\u001b[0m\u001b[0mc\u001b[0m\u001b[1;33m,\u001b[0m\u001b[1;36m0\u001b[0m\u001b[1;33m,\u001b[0m\u001b[0maxis\u001b[0m\u001b[1;33m=\u001b[0m\u001b[1;36m0\u001b[0m\u001b[1;33m)\u001b[0m\u001b[1;33m\u001b[0m\u001b[1;33m\u001b[0m\u001b[0m\n",
      "\u001b[1;32mG:\\WorkProgram\\anaconda\\lib\\site-packages\\numpy\\core\\shape_base.py\u001b[0m in \u001b[0;36mvstack\u001b[1;34m(tup)\u001b[0m\n\u001b[0;32m    232\u001b[0m \u001b[1;33m\u001b[0m\u001b[0m\n\u001b[0;32m    233\u001b[0m     \"\"\"\n\u001b[1;32m--> 234\u001b[1;33m     \u001b[1;32mreturn\u001b[0m \u001b[0m_nx\u001b[0m\u001b[1;33m.\u001b[0m\u001b[0mconcatenate\u001b[0m\u001b[1;33m(\u001b[0m\u001b[1;33m[\u001b[0m\u001b[0matleast_2d\u001b[0m\u001b[1;33m(\u001b[0m\u001b[0m_m\u001b[0m\u001b[1;33m)\u001b[0m \u001b[1;32mfor\u001b[0m \u001b[0m_m\u001b[0m \u001b[1;32min\u001b[0m \u001b[0mtup\u001b[0m\u001b[1;33m]\u001b[0m\u001b[1;33m,\u001b[0m \u001b[1;36m0\u001b[0m\u001b[1;33m)\u001b[0m\u001b[1;33m\u001b[0m\u001b[1;33m\u001b[0m\u001b[0m\n\u001b[0m\u001b[0;32m    235\u001b[0m \u001b[1;33m\u001b[0m\u001b[0m\n\u001b[0;32m    236\u001b[0m \u001b[1;32mdef\u001b[0m \u001b[0mhstack\u001b[0m\u001b[1;33m(\u001b[0m\u001b[0mtup\u001b[0m\u001b[1;33m)\u001b[0m\u001b[1;33m:\u001b[0m\u001b[1;33m\u001b[0m\u001b[1;33m\u001b[0m\u001b[0m\n",
      "\u001b[1;31mValueError\u001b[0m: all the input array dimensions except for the concatenation axis must match exactly"
     ]
    }
   ],
   "source": [
    "a = np.arange(4).reshape(1,-1)\n",
    "b = np.repeat(1, 10).reshape(2,-1)\n",
    "print(a,a.sum())\n",
    "# print(b)\n",
    "c=np.vstack([a,b])\n",
    "\n",
    "s=np.delete(c,0,axis=0)\n",
    "print(c)"
   ]
  },
  {
   "cell_type": "code",
   "execution_count": 152,
   "metadata": {},
   "outputs": [
    {
     "data": {
      "text/plain": [
       "array([1])"
      ]
     },
     "execution_count": 152,
     "metadata": {},
     "output_type": "execute_result"
    }
   ],
   "source": [
    "np.array([1])"
   ]
  }
 ],
 "metadata": {
  "kernelspec": {
   "display_name": "Python 3",
   "language": "python",
   "name": "python3"
  },
  "language_info": {
   "codemirror_mode": {
    "name": "ipython",
    "version": 3
   },
   "file_extension": ".py",
   "mimetype": "text/x-python",
   "name": "python",
   "nbconvert_exporter": "python",
   "pygments_lexer": "ipython3",
   "version": "3.7.1"
  }
 },
 "nbformat": 4,
 "nbformat_minor": 2
}
