{
 "cells": [
  {
   "cell_type": "code",
   "execution_count": 67,
   "metadata": {},
   "outputs": [],
   "source": [
    "import numpy as np\n",
    "from pathlib import Path\n",
    "import struct#用于数据类型的转换 bytes to str\n",
    "import matplotlib.pyplot as plt"
   ]
  },
  {
   "cell_type": "code",
   "execution_count": 65,
   "metadata": {},
   "outputs": [],
   "source": [
    "def Read_img_File(filepath):\n",
    "    with open(filepath,'rb') as f:\n",
    "        struct.unpack('>4i',f.read(16))#4i代表4位整型，int：占4字节，4*8=32bit\n",
    "        data=np.fromfile(f,dtype=np.uint8)\n",
    "        return data.reshape(-1,28*28)\n",
    "    \n",
    "def Read_label_File(filepath):\n",
    "    with open(filepath,'rb') as f:\n",
    "        struct.unpack('>2i',f.read(8))\n",
    "        data=np.fromfile(f,dtype=np.uint8)\n",
    "        return data\n",
    "def loadDataSets():\n",
    "    train_img_path='handwrite/train-images.idx3-ubyte'\n",
    "    train_label_path='handwrite/train-labels.idx1-ubyte'\n",
    "    test_img_path='handwrite/t10k-images.idx3-ubyte'\n",
    "    test_label_path='handwrite/t10k-labels.idx1-ubyte'\n",
    "    train_img=Read_img_File(train_img_path)\n",
    "    train_label=Read_label_File(train_label_path)\n",
    "    test_img=Read_img_File(test_img_path)\n",
    "    test_label=Read_label_File(test_label_path)\n",
    "    return train_img,train_label,test_img,test_label\n",
    "train_img,train_label,test_img,test_label=loadDataSets()\n"
   ]
  },
  {
   "cell_type": "code",
   "execution_count": 68,
   "metadata": {},
   "outputs": [
    {
     "name": "stdout",
     "output_type": "stream",
     "text": [
      "[array([[ 0.06674321,  0.07828892,  0.07572998, ...,  0.04497892,\n",
      "         0.07166848,  0.0783158 ],\n",
      "       [-0.07550147, -0.05650199,  0.06004355, ..., -0.02064747,\n",
      "        -0.03207563,  0.06148705],\n",
      "       [-0.0790739 ,  0.00989914, -0.06532536, ...,  0.08375338,\n",
      "         0.0337417 ,  0.01315227],\n",
      "       ...,\n",
      "       [ 0.0554073 ,  0.07847227, -0.067351  , ..., -0.04369898,\n",
      "         0.05008107,  0.00367608],\n",
      "       [-0.0128868 ,  0.04019596, -0.06821346, ...,  0.08667118,\n",
      "        -0.02495646,  0.06625986],\n",
      "       [ 0.00790279, -0.05273737,  0.01332947, ...,  0.05559472,\n",
      "        -0.02768894, -0.02379504]]), array([[-0.07778807,  0.01918983,  0.03175096, ...,  0.0383643 ,\n",
      "         0.00635742,  0.02636519],\n",
      "       [ 0.07594674,  0.0298443 , -0.0211606 , ..., -0.05046697,\n",
      "         0.04256121,  0.03972094],\n",
      "       [ 0.0579682 , -0.08268225, -0.01268508, ..., -0.03626317,\n",
      "         0.00554059, -0.03267976],\n",
      "       ...,\n",
      "       [ 0.08357975,  0.07266462,  0.07081462, ..., -0.06182843,\n",
      "         0.03795794,  0.05146177],\n",
      "       [-0.08221948,  0.0169876 , -0.0846225 , ...,  0.02694837,\n",
      "         0.02194091,  0.07393946],\n",
      "       [-0.05776772, -0.03356944, -0.02132738, ..., -0.0483967 ,\n",
      "        -0.00475793, -0.0592835 ]])]\n",
      "(784, 785)\n",
      "(785, 10)\n"
     ]
    }
   ],
   "source": []
  },
  {
   "cell_type": "code",
   "execution_count": 3,
   "metadata": {},
   "outputs": [
    {
     "name": "stdout",
     "output_type": "stream",
     "text": [
      "label: 5\n"
     ]
    },
    {
     "data": {
      "image/png": "[encoded data removed]",
      "text/plain": [
       "<Figure size 432x288 with 1 Axes>"
      ]
     },
     "metadata": {
      "needs_background": "light"
     },
     "output_type": "display_data"
    }
   ],
   "source": [
    "def show_img(img):\n",
    "    plt.imshow(img.reshape(28,28),cmap='gray')\n",
    "show_img(train_img[0])\n",
    "print('label:',train_label[0])"
   ]
  },
  {
   "cell_type": "code",
   "execution_count": 4,
   "metadata": {},
   "outputs": [
    {
     "name": "stdout",
     "output_type": "stream",
     "text": [
      "(60000, 784) (60000,)\n"
     ]
    }
   ],
   "source": [
    "print(train_img.shape,train_label.shape)"
   ]
  },
  {
   "cell_type": "code",
   "execution_count": 66,
   "metadata": {},
   "outputs": [],
   "source": [
    "#确定各层的激活项的个数\n",
    "#输入层：784个，隐藏层数1：784个，输出层1：10个\n",
    "layer_activity_num=[28*28,28*28,10]\n",
    "\n",
    "#激活函数\n",
    "def sigmoid(z):\n",
    "    return 1/(1+np.exp(-z))\n",
    "#激活函数导数\n",
    "def d_sigmoid(z):\n",
    "    s=sigmoid(z)\n",
    "    return s*(1-s)\n",
    "#初始化权重矩阵\n",
    "def theta_init():\n",
    "    theta=[]\n",
    "    for i in range(len(layer_activity_num)-1):\n",
    "        m=layer_activity_num[0]+layer_activity_num[-1]\n",
    "        theta_temp=np.random.uniform(-np.sqrt(6/m),np.sqrt(6/m),size=(layer_activity_num[i+1],layer_activity_num[i]+1))\n",
    "        theta.append(theta_temp)\n",
    "    return theta\n",
    "\n",
    "\n"
   ]
  },
  {
   "cell_type": "code",
   "execution_count": 11,
   "metadata": {},
   "outputs": [
    {
     "name": "stdout",
     "output_type": "stream",
     "text": [
      "(1000, 784)\n"
     ]
    }
   ],
   "source": [
    "import time\n",
    "#训练数量\n",
    "test_num=1000\n",
    "#\n",
    "#输入值X\n",
    "X=train_img[:test_num,:]\n",
    "#标签对应的向量Y\n",
    "Y_label=train_label[:test_num]\n",
    "Y_exa=np.identity(10)\n",
    "Y=Y_exa[Y_label[0]].reshape(-1,1)\n",
    "for i in range(1,Y_label.shape[0]):\n",
    "    Y=np.hstack([Y,Y_exa[Y_label[i]].reshape(-1,1)])\n",
    "\n",
    "print(X.shape)\n"
   ]
  },
  {
   "cell_type": "code",
   "execution_count": 12,
   "metadata": {},
   "outputs": [],
   "source": [
    "#正向传播\n",
    "def ForwardPropagation(X,theta):\n",
    "    a=X.T #某层的激活项\n",
    "    activity=[]#记录所有层的激活项\n",
    "    activity.append(a)\n",
    "    for i in range(len(layer_activity_num)-1):\n",
    "        a=np.vstack([np.ones((1,a.shape[1])),a])#添加偏置单元\n",
    "        Z=theta[i].dot(a)#矩阵相乘得到Z\n",
    "        a=sigmoid(Z)#计算下一层激活项a\n",
    "        activity.append(a)\n",
    "    return activity"
   ]
  },
  {
   "cell_type": "code",
   "execution_count": 50,
   "metadata": {},
   "outputs": [],
   "source": [
    "#前向传播获取各个部分的激活项\n",
    "activity=ForwardPropagation(X,theta)\n",
    "Y_predict=activity[-1]\n"
   ]
  },
  {
   "cell_type": "code",
   "execution_count": 52,
   "metadata": {},
   "outputs": [
    {
     "data": {
      "text/plain": [
       "8.457207491877108"
      ]
     },
     "execution_count": 52,
     "metadata": {},
     "output_type": "execute_result"
    }
   ],
   "source": [
    "#计算代价\n",
    "def cost_function(theta,Y_predict,Y,Lamaba):\n",
    "    m=X.shape[0]\n",
    "    part1=-(Y*np.log(Y_predict)+(1-Y)*np.log(1-Y_predict)).sum()/m\n",
    "    part2=0\n",
    "    for i in range(len(theta)):\n",
    "        part2+=((np.delete(theta[i],0,axis=1)**2).sum()*Lamaba)/(2*m)\n",
    "    J=part1+part2\n",
    "    return J\n",
    "lamada=1\n",
    "cost_function(theta,Y_predict,Y,lamada)"
   ]
  },
  {
   "cell_type": "code",
   "execution_count": 53,
   "metadata": {},
   "outputs": [
    {
     "name": "stdout",
     "output_type": "stream",
     "text": [
      "(784, 1000)\n"
     ]
    }
   ],
   "source": []
  },
  {
   "cell_type": "code",
   "execution_count": 62,
   "metadata": {},
   "outputs": [
    {
     "name": "stderr",
     "output_type": "stream",
     "text": [
      "G:\\WorkProgram\\anaconda\\lib\\site-packages\\ipykernel_launcher.py:7: RuntimeWarning: overflow encountered in exp\n",
      "  import sys\n"
     ]
    }
   ],
   "source": [
    "#反向传播,小批量梯度下降\n",
    "#计算出所有的偏导数\n",
    "def Backpropagation(activity,theta,Y_predict,Y,lamada):\n",
    "    #1.计算误差项\n",
    "    err_list=[]\n",
    "    d_theta_list=[]\n",
    "    err=Y_predict-Y #输出层的误差\n",
    "    err_list.append(err)\n",
    "    ix=len(theta)-1 #2-1=1\n",
    "    count_i=0\n",
    "    while ix>=0:\n",
    "        theta_temp=np.delete(theta[ix],0,axis=1)\n",
    "        #计算前一层的误差\n",
    "        err=theta_temp.T.dot(err)*d_sigmoid(activity[ix])\n",
    "        err_list.insert(0,err)\n",
    "    #2.求各个theta的偏导\n",
    "        #给每一列激活项添加偏置项\n",
    "        activity_temp=np.vstack([np.ones((1,activity[ix].shape[1])),activity[ix]]).T\n",
    "        #用于更新偏导的theta临时变量，加上一层偏置项0\n",
    "        theta_temp=np.hstack([np.zeros((theta_temp.shape[0],1)),theta_temp])\n",
    "        #取前一层误差\n",
    "        err_temp=err_list[1]\n",
    "        #用于所有偏导阵相加的零阵\n",
    "        d_theta=np.zeros((theta[ix].shape[0],theta[ix].shape[1]))\n",
    "        m=activity_temp.shape[0]\n",
    "        #m：样本数\n",
    "        for act_ix in range(m):   \n",
    "            #某一个样本的偏导矩阵\n",
    "            d_theta_temp=err_temp[:,act_ix].reshape(-1,1)*activity_temp[act_ix]\n",
    "            d_theta+=d_theta_temp #每一个样本计算的偏导矩阵叠加\n",
    "            d_theta=d_theta/m+theta_temp*(lamada/m)#计算该层所有的偏导\n",
    "        #得到一个偏导叠加的矩阵\n",
    "        d_theta_list.insert(0,d_theta)\n",
    "        ix-=1\n",
    "    return d_theta_list\n",
    "d_theta=Backpropagation(activity,theta,Y_predict,Y,lamada)\n",
    "#print(d_theta,d_theta[0].shape,d_theta[1].shape)"
   ]
  },
  {
   "cell_type": "code",
   "execution_count": null,
   "metadata": {},
   "outputs": [],
   "source": [
    "def train():\n",
    "    #测试数量\n",
    "    test_num=20000\n",
    "    #每一批的数量\n",
    "    batch_num=200\n",
    "    \n",
    "    #输入值X\n",
    "    X=train_img[:test_num,:]\n",
    "    #标签对应的向量Y\n",
    "    Y_label=train_label[:test_num]\n",
    "    Y_exa=np.identity(10)\n",
    "    Y=Y_exa[Y_label[0]].reshape(-1,1)\n",
    "    for i in range(1,Y_label.shape[0]):\n",
    "        Y=np.hstack([Y,Y_exa[Y_label[i]].reshape(-1,1)])\n",
    "    \n",
    "    theta=init"
   ]
  },
  {
   "cell_type": "code",
   "execution_count": 53,
   "metadata": {},
   "outputs": [],
   "source": [
    "#反向传播\n",
    "#计算出所有的偏导数\n",
    "def Backpropagation1(activity,theta,Y_predict,Y,lamada):\n",
    "    #1.计算误差项\n",
    "    err_list=[]\n",
    "    d_theta_list=[]\n",
    "    \n",
    "    err=Y_predict-Y #输出层的误差\n",
    "    err_list.append(err)\n",
    "    ix=len(theta)-1\n",
    "    count_i=0\n",
    "    while ix>=0:\n",
    "\n",
    "        theta_temp=np.delete(theta[ix],0,axis=1)\n",
    "        #print(theta_temp.shape,theta[ix].shape)\n",
    "        #(10, 784) (10, 785)\n",
    "        err=theta_temp.T.dot(err)*d_sigmoid(activity[ix])\n",
    "        err_list.insert(0,err)\n",
    "    #2.求各个theta的偏导\n",
    "        d_theta_i=np.zeros((theta[ix].shape[0],theta[ix].shape[1]))\n",
    "        #给每一列激活项添加偏置项\n",
    "        activity_temp=np.vstack([np.ones((1,activity[ix].shape[1])),activity[ix]]).T\n",
    "        \n",
    "        theta_temp=np.hstack([np.zeros((theta_temp.shape[0],1)),theta_temp])\n",
    "        #print(theta_temp)\n",
    "        #print(theta_temp.shape)#(10, 785)\n",
    "        err_temp=err_list[1].T\n",
    "        #print(err_list[1].shape)\n",
    "        #(10000,10)\n",
    "        #print(activity_temp.shape)\n",
    "        #(10000,785)\n",
    "        \n",
    "        #用于所有偏导阵相加的零阵\n",
    "        d_theta=np.zeros((theta[ix].shape[0],theta[ix].shape[1]))\n",
    "        m=activity_temp.shape[0]\n",
    "        \n",
    "        for act_ix in range(m):\n",
    "            \n",
    "            d_theta_temp=[]\n",
    "            for er in err_temp[act_ix]:\n",
    "                d_theta_temp.append(activity_temp[act_ix]*er)\n",
    "                \n",
    "            d_theta_temp=np.array(d_theta_temp)#某一个样本的偏导矩阵\n",
    "            d_theta+=d_theta_temp #偏导叠加\n",
    "            d_theta=d_theta/m+theta_temp*(lamada/m)\n",
    "\n",
    " \n",
    "        #得到一个偏导叠加的矩阵    \n",
    "        d_theta_list.insert(0,d_theta)\n",
    "        ix-=1\n",
    "    return d_theta_list\n",
    "                       \n",
    "\n",
    "#d_theta=Backpropagation(activity,theta,Y_predict,Y,lamada)\n",
    "#print(d_theta,d_theta[0].shape,d_theta[1].shape)"
   ]
  },
  {
   "cell_type": "code",
   "execution_count": 25,
   "metadata": {},
   "outputs": [
    {
     "name": "stdout",
     "output_type": "stream",
     "text": [
      "2 2\n"
     ]
    }
   ],
   "source": [
    "print(len(theta),len(d_theta))"
   ]
  },
  {
   "cell_type": "code",
   "execution_count": 45,
   "metadata": {},
   "outputs": [
    {
     "name": "stdout",
     "output_type": "stream",
     "text": [
      "0.1587347015681188\n",
      "[0, 6, 0, 8, 7, 3, 0, 0, 9, 0, 0, 9, 0, 0, 9, 3, 0, 0, 0, 0, 6, 9, 0, 0, 7, 0, 0, 0, 0, 9, 3, 0, 0, 9, 0, 0, 0, 0, 9, 3, 6, 0, 9, 2, 3, 0, 0, 1, 0, 0, 2, 0, 0, 0, 9, 0, 0, 0, 0, 9, 0, 0, 0, 6, 0, 1, 9, 0, 3, 9, 9, 0, 0, 6, 2, 0, 3, 7, 1, 6, 1, 9, 6, 1, 0, 0, 6, 0, 9, 6, 3, 0, 2, 3, 0, 0, 0, 0, 0, 0]\n",
      "[7 2 1 0 4 1 4 9 5 9 0 6 9 0 1 5 9 7 3 4 9 6 6 5 4 0 7 4 0 1 3 1 3 4 7 2 7\n",
      " 1 2 1 1 7 4 2 3 5 1 2 4 4 6 3 5 5 6 0 4 1 9 5 7 8 9 3 7 4 6 4 3 0 7 0 2 9\n",
      " 1 7 3 2 9 7 7 6 2 7 8 4 7 3 6 1 3 6 9 3 1 4 1 7 6 9]\n"
     ]
    }
   ],
   "source": [
    "def grad1(theta,d_theta):\n",
    "    alpha=0.01\n",
    "    theta1=[]\n",
    "    for theta_temp,d_theta_temp in zip(theta,d_theta):\n",
    "        theta1.append(theta_temp-alpha*d_theta_temp)\n",
    "    #预测\n",
    "    testnum=100\n",
    "    X=test_img[:testnum,:]\n",
    "    #标签对应的向量Y\n",
    "    Y_label=test_label[:testnum]\n",
    "    Y_exa=np.identity(10)\n",
    "    Y=Y_exa[Y_label[0]].reshape(-1,1)\n",
    "    for i in range(1,Y_label.shape[0]):\n",
    "        Y=np.hstack([Y,Y_exa[Y_label[i]].reshape(-1,1)])\n",
    "        \n",
    "    y=ForwardPropagation(X,theta1)[-1]\n",
    "    y_t=[np.argmax(y_i) for y_i in y.T]\n",
    "    print(cost_function(theta1,y,Y,1))\n",
    "    print(y_t)\n",
    "    print(Y_label)\n",
    "\n",
    "grad1(theta,d_theta)\n",
    "        "
   ]
  },
  {
   "cell_type": "code",
   "execution_count": null,
   "metadata": {},
   "outputs": [],
   "source": []
  },
  {
   "cell_type": "code",
   "execution_count": 60,
   "metadata": {},
   "outputs": [
    {
     "name": "stdout",
     "output_type": "stream",
     "text": [
      "(200, 784) (10, 200)\n"
     ]
    },
    {
     "name": "stderr",
     "output_type": "stream",
     "text": [
      "G:\\WorkProgram\\anaconda\\lib\\site-packages\\ipykernel_launcher.py:7: RuntimeWarning: overflow encountered in exp\n",
      "  import sys\n"
     ]
    },
    {
     "name": "stdout",
     "output_type": "stream",
     "text": [
      "cost: 0.03742127876257231\n",
      "(200, 784) (10, 200)\n",
      "cost: 0.03687490246976152\n",
      "(200, 784) (10, 200)\n",
      "cost: 0.037282891885546496\n",
      "(200, 784) (10, 200)\n",
      "cost: 0.037434931482937125\n",
      "(200, 784) (10, 200)\n",
      "cost: 0.03704896171871558\n",
      "(200, 784) (10, 200)\n",
      "cost: 0.03733339164443808\n",
      "(200, 784) (10, 200)\n",
      "cost: 0.03703828815300421\n",
      "(200, 784) (10, 200)\n",
      "cost: 0.03687984697545742\n",
      "(200, 784) (10, 200)\n",
      "cost: 0.03675771789018345\n",
      "(200, 784) (10, 200)\n",
      "cost: 0.03711953552391932\n",
      "(200, 784) (10, 200)\n",
      "cost: 0.03692558488701825\n",
      "(200, 784) (10, 200)\n",
      "cost: 0.03680733936553962\n",
      "(200, 784) (10, 200)\n",
      "cost: 0.036776724969230457\n",
      "(200, 784) (10, 200)\n",
      "cost: 0.03693150027597981\n",
      "(200, 784) (10, 200)\n",
      "cost: 0.036715098616239505\n",
      "(200, 784) (10, 200)\n",
      "cost: 0.037070954284740325\n",
      "(200, 784) (10, 200)\n",
      "cost: 0.03649609255255627\n",
      "(200, 784) (10, 200)\n",
      "cost: 0.03665105076595451\n",
      "(200, 784) (10, 200)\n",
      "cost: 0.03686711310988979\n",
      "(200, 784) (10, 200)\n"
     ]
    },
    {
     "ename": "KeyboardInterrupt",
     "evalue": "",
     "output_type": "error",
     "traceback": [
      "\u001b[1;31m---------------------------------------------------------------------------\u001b[0m",
      "\u001b[1;31mKeyboardInterrupt\u001b[0m                         Traceback (most recent call last)",
      "\u001b[1;32m<ipython-input-60-639ea68890b6>\u001b[0m in \u001b[0;36m<module>\u001b[1;34m\u001b[0m\n\u001b[0;32m     32\u001b[0m         \u001b[0mprint\u001b[0m\u001b[1;33m(\u001b[0m\u001b[1;34m'cost:'\u001b[0m\u001b[1;33m,\u001b[0m\u001b[0mcost_function\u001b[0m\u001b[1;33m(\u001b[0m\u001b[0mtheta\u001b[0m\u001b[1;33m,\u001b[0m\u001b[0mY_predict\u001b[0m\u001b[1;33m,\u001b[0m\u001b[0mY\u001b[0m\u001b[1;33m,\u001b[0m\u001b[0mlamada\u001b[0m\u001b[1;33m)\u001b[0m\u001b[1;33m)\u001b[0m\u001b[1;33m\u001b[0m\u001b[1;33m\u001b[0m\u001b[0m\n\u001b[0;32m     33\u001b[0m     \u001b[1;32mreturn\u001b[0m \u001b[0mtheta\u001b[0m\u001b[1;33m\u001b[0m\u001b[1;33m\u001b[0m\u001b[0m\n\u001b[1;32m---> 34\u001b[1;33m \u001b[0mta\u001b[0m\u001b[1;33m=\u001b[0m\u001b[0mtrain\u001b[0m\u001b[1;33m(\u001b[0m\u001b[0mX\u001b[0m\u001b[1;33m,\u001b[0m\u001b[0mY\u001b[0m\u001b[1;33m,\u001b[0m\u001b[0mtheta\u001b[0m\u001b[1;33m)\u001b[0m\u001b[1;33m\u001b[0m\u001b[1;33m\u001b[0m\u001b[0m\n\u001b[0m",
      "\u001b[1;32m<ipython-input-60-639ea68890b6>\u001b[0m in \u001b[0;36mtrain\u001b[1;34m(X, Y, theta)\u001b[0m\n\u001b[0;32m     27\u001b[0m         \u001b[0mactivity\u001b[0m\u001b[1;33m=\u001b[0m\u001b[0mForwardPropagation\u001b[0m\u001b[1;33m(\u001b[0m\u001b[0mX\u001b[0m\u001b[1;33m,\u001b[0m\u001b[0mtheta\u001b[0m\u001b[1;33m)\u001b[0m\u001b[1;33m\u001b[0m\u001b[1;33m\u001b[0m\u001b[0m\n\u001b[0;32m     28\u001b[0m         \u001b[0mY_predict\u001b[0m\u001b[1;33m=\u001b[0m\u001b[0mactivity\u001b[0m\u001b[1;33m[\u001b[0m\u001b[1;33m-\u001b[0m\u001b[1;36m1\u001b[0m\u001b[1;33m]\u001b[0m\u001b[1;33m\u001b[0m\u001b[1;33m\u001b[0m\u001b[0m\n\u001b[1;32m---> 29\u001b[1;33m         \u001b[0md_theta\u001b[0m\u001b[1;33m=\u001b[0m\u001b[0mBackpropagation\u001b[0m\u001b[1;33m(\u001b[0m\u001b[0mactivity\u001b[0m\u001b[1;33m,\u001b[0m\u001b[0mtheta\u001b[0m\u001b[1;33m,\u001b[0m\u001b[0mY_predict\u001b[0m\u001b[1;33m,\u001b[0m\u001b[0mY\u001b[0m\u001b[1;33m,\u001b[0m\u001b[0mlamada\u001b[0m\u001b[1;33m)\u001b[0m\u001b[1;33m\u001b[0m\u001b[1;33m\u001b[0m\u001b[0m\n\u001b[0m\u001b[0;32m     30\u001b[0m         \u001b[1;32mfor\u001b[0m \u001b[0mi\u001b[0m \u001b[1;32min\u001b[0m \u001b[0mrange\u001b[0m\u001b[1;33m(\u001b[0m\u001b[0mlen\u001b[0m\u001b[1;33m(\u001b[0m\u001b[0mtheta\u001b[0m\u001b[1;33m)\u001b[0m\u001b[1;33m)\u001b[0m\u001b[1;33m:\u001b[0m\u001b[1;33m\u001b[0m\u001b[1;33m\u001b[0m\u001b[0m\n\u001b[0;32m     31\u001b[0m             \u001b[0mtheta\u001b[0m\u001b[1;33m[\u001b[0m\u001b[0mi\u001b[0m\u001b[1;33m]\u001b[0m\u001b[1;33m=\u001b[0m\u001b[0mtheta\u001b[0m\u001b[1;33m[\u001b[0m\u001b[0mi\u001b[0m\u001b[1;33m]\u001b[0m\u001b[1;33m-\u001b[0m\u001b[0malpha\u001b[0m\u001b[1;33m*\u001b[0m\u001b[0md_theta\u001b[0m\u001b[1;33m[\u001b[0m\u001b[0mi\u001b[0m\u001b[1;33m]\u001b[0m\u001b[1;33m\u001b[0m\u001b[1;33m\u001b[0m\u001b[0m\n",
      "\u001b[1;32m<ipython-input-53-d855bdf95151>\u001b[0m in \u001b[0;36mBackpropagation\u001b[1;34m(activity, theta, Y_predict, Y, lamada)\u001b[0m\n\u001b[0;32m     39\u001b[0m             \u001b[0md_theta_temp\u001b[0m\u001b[1;33m=\u001b[0m\u001b[1;33m[\u001b[0m\u001b[1;33m]\u001b[0m\u001b[1;33m\u001b[0m\u001b[1;33m\u001b[0m\u001b[0m\n\u001b[0;32m     40\u001b[0m             \u001b[1;32mfor\u001b[0m \u001b[0mer\u001b[0m \u001b[1;32min\u001b[0m \u001b[0merr_temp\u001b[0m\u001b[1;33m[\u001b[0m\u001b[0mix\u001b[0m\u001b[1;33m]\u001b[0m\u001b[1;33m:\u001b[0m\u001b[1;33m\u001b[0m\u001b[1;33m\u001b[0m\u001b[0m\n\u001b[1;32m---> 41\u001b[1;33m                 \u001b[0md_theta_temp\u001b[0m\u001b[1;33m.\u001b[0m\u001b[0mappend\u001b[0m\u001b[1;33m(\u001b[0m\u001b[0mactivity_temp\u001b[0m\u001b[1;33m[\u001b[0m\u001b[0mact_ix\u001b[0m\u001b[1;33m]\u001b[0m\u001b[1;33m*\u001b[0m\u001b[0mer\u001b[0m\u001b[1;33m)\u001b[0m\u001b[1;33m\u001b[0m\u001b[1;33m\u001b[0m\u001b[0m\n\u001b[0m\u001b[0;32m     42\u001b[0m \u001b[1;33m\u001b[0m\u001b[0m\n\u001b[0;32m     43\u001b[0m             \u001b[0md_theta_temp\u001b[0m\u001b[1;33m=\u001b[0m\u001b[0mnp\u001b[0m\u001b[1;33m.\u001b[0m\u001b[0marray\u001b[0m\u001b[1;33m(\u001b[0m\u001b[0md_theta_temp\u001b[0m\u001b[1;33m)\u001b[0m\u001b[1;31m#某一个样本的偏导矩阵\u001b[0m\u001b[1;33m\u001b[0m\u001b[1;33m\u001b[0m\u001b[0m\n",
      "\u001b[1;31mKeyboardInterrupt\u001b[0m: "
     ]
    }
   ],
   "source": [
    "\n",
    "#训练数量\n",
    "test_num=10000\n",
    "#每轮的数量\n",
    "each_num=200\n",
    "\n",
    "# #输入值X\n",
    "# X=train_img[:test_num,:]\n",
    "# #标签对应的向量Y\n",
    "# Y_label=train_label[:test_num]\n",
    "# Y_exa=np.identity(10)\n",
    "# Y=Y_exa[Y_label[0]].reshape(-1,1)\n",
    "# for i in range(1,Y_label.shape[0]):\n",
    "#     Y=np.hstack([Y,Y_exa[Y_label[i]].reshape(-1,1)])\n",
    "\n",
    "def train(X,Y,theta):\n",
    "    alpha=0.01\n",
    "    lamada=1\n",
    "    X_c=X\n",
    "    Y_c=Y\n",
    "    for j in range(int(test_num/each_num)):\n",
    "        f=j*each_num\n",
    "        l=(j+1)*each_num\n",
    "        X=X_c[f:l,:]\n",
    "        Y=Y_c[:,f:l]\n",
    "        print(X.shape,Y.shape)\n",
    "        activity=ForwardPropagation(X,theta)\n",
    "        Y_predict=activity[-1]\n",
    "        d_theta=Backpropagation(activity,theta,Y_predict,Y,lamada)\n",
    "        for i in range(len(theta)):\n",
    "            theta[i]=theta[i]-alpha*d_theta[i]\n",
    "        print('cost:',cost_function(theta,Y_predict,Y,lamada))\n",
    "    return theta\n",
    "ta=train(X,Y,theta)\n"
   ]
  },
  {
   "cell_type": "code",
   "execution_count": 61,
   "metadata": {},
   "outputs": [
    {
     "name": "stdout",
     "output_type": "stream",
     "text": [
      "0.028102148463253117\n",
      "[7, 5, 6, 2, 7, 3, 2, 4, 5, 8, 7, 9, 5, 7, 2, 3, 7, 9, 1, 1, 2, 9, 7, 2, 1, 5, 2, 5, 7, 1, 3, 3, 3, 1, 2, 0, 7, 8, 9, 3, 6, 8, 9, 2, 3, 4, 3, 2, 7, 7, 2, 1, 5, 0, 9, 2, 5, 2, 5, 4, 1, 6, 7, 2, 5, 1, 9, 9, 3, 5, 9, 7, 6, 6, 8, 9, 3, 7, 2, 6, 1, 5, 5, 1, 2, 5, 5, 0, 9, 6, 3, 3, 2, 3, 6, 5, 3, 2, 9, 5]\n",
      "[7 2 1 0 4 1 4 9 5 9 0 6 9 0 1 5 9 7 3 4 9 6 6 5 4 0 7 4 0 1 3 1 3 4 7 2 7\n",
      " 1 2 1 1 7 4 2 3 5 1 2 4 4 6 3 5 5 6 0 4 1 9 5 7 8 9 3 7 4 6 4 3 0 7 0 2 9\n",
      " 1 7 3 2 9 7 7 6 2 7 8 4 7 3 6 1 3 6 9 3 1 4 1 7 6 9]\n"
     ]
    }
   ],
   "source": [
    "def predict(theta1):\n",
    "    #预测\n",
    "    testnum=100\n",
    "    X=test_img[:testnum,:]\n",
    "    #标签对应的向量Y\n",
    "    Y_label=test_label[:testnum]\n",
    "    Y_exa=np.identity(10)\n",
    "    Y=Y_exa[Y_label[0]].reshape(-1,1)\n",
    "    \n",
    "    for i in range(1,Y_label.shape[0]):\n",
    "        Y=np.hstack([Y,Y_exa[Y_label[i]].reshape(-1,1)])\n",
    "\n",
    "    y=ForwardPropagation(X,theta1)[-1]\n",
    "    y_t=[np.argmax(y_i) for y_i in y.T]\n",
    "    print(cost_function(theta1,y,Y,1))\n",
    "    print(y_t)\n",
    "    print(Y_label)\n",
    "predict(theta) "
   ]
  },
  {
   "cell_type": "code",
   "execution_count": null,
   "metadata": {},
   "outputs": [],
   "source": [
    "print(d_theta[0].shape,d_theta[1].shape)\n"
   ]
  },
  {
   "cell_type": "code",
   "execution_count": null,
   "metadata": {},
   "outputs": [],
   "source": [
    "def checkgrad(theta,epsilon):\n",
    "    for ix in range(len(theta)):\n",
    "        theta_plus=theta.copy()\n",
    "        theta_plus[ix]=theta_plus[ix]+epsilon\n",
    "        theta_mins=theta.copy()\n",
    "        theta_mins[ix]=theta_mins[ix]+epsilon\n",
    "        J=(cost_function(theta_plus,Y_predict,Lamaba)-cost_function(theta_mins))/(2*epsilon)\n",
    "        cost_function()"
   ]
  },
  {
   "cell_type": "code",
   "execution_count": null,
   "metadata": {},
   "outputs": [],
   "source": [
    "a=[\n",
    "    [\n",
    "        [1,2],\n",
    "        [3,4]\n",
    "    ]\n",
    "  ]\n",
    "a=theta.copy()\n",
    "print(a==b)\n",
    "\n",
    "\n"
   ]
  },
  {
   "cell_type": "code",
   "execution_count": null,
   "metadata": {},
   "outputs": [],
   "source": [
    "list1 = ['Google', 'Runoob', 'Taobao']\n",
    "list1.insert(1, 'Baidu')\n",
    "print ('列表插入元素后为 : ', list1)\n",
    "#list1 = ['Google', 'Runoob', 'Taobao']\n",
    "list1.insert(0, 'Baidu')\n",
    "print ('列表插入元素后为 : ', list1)\n",
    "list1.insert(0, 'Baidu111')\n",
    "print ('列表插入元素后为 : ', list1)\n",
    "list1.insert(0, 'Baidu')\n",
    "print ('列表插入元素后为 : ', list1)"
   ]
  },
  {
   "cell_type": "code",
   "execution_count": null,
   "metadata": {},
   "outputs": [],
   "source": [
    "np.array([1])"
   ]
  }
 ],
 "metadata": {
  "kernelspec": {
   "display_name": "Python 3",
   "language": "python",
   "name": "python3"
  },
  "language_info": {
   "codemirror_mode": {
    "name": "ipython",
    "version": 3
   },
   "file_extension": ".py",
   "mimetype": "text/x-python",
   "name": "python",
   "nbconvert_exporter": "python",
   "pygments_lexer": "ipython3",
   "version": "3.7.1"
  }
 },
 "nbformat": 4,
 "nbformat_minor": 2
}
