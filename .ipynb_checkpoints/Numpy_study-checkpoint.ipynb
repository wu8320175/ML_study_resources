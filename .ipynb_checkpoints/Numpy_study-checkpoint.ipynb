{
 "cells": [
  {
   "cell_type": "code",
   "execution_count": 1,
   "metadata": {},
   "outputs": [],
   "source": [
    "import numpy as np"
   ]
  },
  {
   "cell_type": "code",
   "execution_count": 4,
   "metadata": {},
   "outputs": [
    {
     "data": {
      "text/plain": [
       "'1.15.4'"
      ]
     },
     "execution_count": 4,
     "metadata": {},
     "output_type": "execute_result"
    }
   ],
   "source": [
    "np.__version__"
   ]
  },
  {
   "cell_type": "code",
   "execution_count": 20,
   "metadata": {
    "scrolled": false
   },
   "outputs": [
    {
     "name": "stdout",
     "output_type": "stream",
     "text": [
      "[2, 4, 6] [0 1 2 3 4]\n"
     ]
    }
   ],
   "source": [
    "#the diffrent in range and arange\n",
    "#range(start,end,step) default:start 0 step 1\n",
    "#range return a list bu not a numpy array returned from ndarray\n",
    "a1=list(range(2,8,2))\n",
    "b1=np.arange(5)\n",
    "print(a1,b1)\n"
   ]
  },
  {
   "cell_type": "code",
   "execution_count": 28,
   "metadata": {},
   "outputs": [
    {
     "name": "stdout",
     "output_type": "stream",
     "text": [
      "[[ True  True]\n",
      " [ True  True]]\n"
     ]
    },
    {
     "data": {
      "text/plain": [
       "array([[ True,  True,  True],\n",
       "       [ True,  True,  True],\n",
       "       [ True,  True,  True]])"
      ]
     },
     "execution_count": 28,
     "metadata": {},
     "output_type": "execute_result"
    }
   ],
   "source": [
    "#numpy.full_like(array, fill_value, dtype=None, order='K', subok=True)\n",
    "#create a numpy array that shape like a\n",
    "a2=[[1,2],[3,4]]\n",
    "a2=np.array(a2)\n",
    "a2=np.full_like(a2,True,dtype=bool)\n",
    "print(a2)\n",
    "#full((shapeX,shapeY),fill_value,dtype=None)\n",
    "np.full((3, 3), True, dtype=bool)"
   ]
  },
  {
   "cell_type": "code",
   "execution_count": 33,
   "metadata": {
    "scrolled": false
   },
   "outputs": [
    {
     "name": "stdout",
     "output_type": "stream",
     "text": [
      "[False  True False  True False  True False  True False  True]\n"
     ]
    },
    {
     "data": {
      "text/plain": [
       "array([1, 3, 5, 7, 9])"
      ]
     },
     "execution_count": 33,
     "metadata": {},
     "output_type": "execute_result"
    }
   ],
   "source": [
    "arr3 = np.array([0, 1, 2, 3, 4, 5, 6, 7, 8, 9])\n",
    "print(arr3%2==1)\n",
    "arr3[arr3%2==1]"
   ]
  },
  {
   "cell_type": "code",
   "execution_count": 35,
   "metadata": {
    "scrolled": false
   },
   "outputs": [
    {
     "name": "stdout",
     "output_type": "stream",
     "text": [
      "[0 0 2 0 4 0 6 0 8 0]\n"
     ]
    }
   ],
   "source": [
    "arr4 = np.array([0, 1, 2, 3, 4, 5, 6, 7, 8, 9])\n",
    "arr4[arr4%2==1]=0\n",
    "print(arr4)"
   ]
  },
  {
   "cell_type": "code",
   "execution_count": 41,
   "metadata": {},
   "outputs": [
    {
     "name": "stdout",
     "output_type": "stream",
     "text": [
      "[0 1 2 3 4 5 6 7 8 9] [-1  1 -1  1 -1  1 -1  1 -1  1] [10  1 12  1 14  1 16  1 18  1]\n"
     ]
    }
   ],
   "source": [
    "#np.where(condition, x, y)\n",
    "#满足条件(condition)，输出x，不满足输出y。\n",
    "a5=np.arange(10)\n",
    "a5_1=np.arange(10,20)\n",
    "b5=np.where(a5%2==1,1,-1)\n",
    "c5=np.where(a5%2==1,1,a5_1)#引用a5的意思是不满足条件直接按照a5_1的对应位置的值输出\n",
    "print(a5,b5,c5)"
   ]
  },
  {
   "cell_type": "code",
   "execution_count": 44,
   "metadata": {},
   "outputs": [
    {
     "data": {
      "text/plain": [
       "array([2, 5, 6])"
      ]
     },
     "execution_count": 44,
     "metadata": {},
     "output_type": "execute_result"
    }
   ],
   "source": [
    "a6=[[1,2,3],[4,5,6]]\n",
    "b6=[[6,7,8],[2,5,11]]\n",
    "np.intersect1d(a6,b6)"
   ]
  },
  {
   "cell_type": "code",
   "execution_count": 47,
   "metadata": {},
   "outputs": [
    {
     "data": {
      "text/plain": [
       "array([1, 5, 6])"
      ]
     },
     "execution_count": 47,
     "metadata": {},
     "output_type": "execute_result"
    }
   ],
   "source": [
    "a7=np.array([[1,2,3],[4,5,6]])\n",
    "b7=np.array([2,3,4])\n",
    "np.setdiff1d(a7,b7)"
   ]
  },
  {
   "cell_type": "code",
   "execution_count": 59,
   "metadata": {},
   "outputs": [
    {
     "name": "stdout",
     "output_type": "stream",
     "text": [
      "[False  True False  True False  True False  True False False]\n"
     ]
    },
    {
     "data": {
      "text/plain": [
       "(array([1, 3, 5, 7], dtype=int64),)"
      ]
     },
     "execution_count": 59,
     "metadata": {},
     "output_type": "execute_result"
    }
   ],
   "source": [
    "a8 = np.array([1,2,3,2,3,4,3,4,5,6])\n",
    "b8 = np.array([7,2,10,2,7,4,9,4,9,8])\n",
    "print(a8==b8)\n",
    "np.where(a8==b8)"
   ]
  },
  {
   "cell_type": "code",
   "execution_count": 63,
   "metadata": {},
   "outputs": [
    {
     "data": {
      "text/plain": [
       "array([ 7, 10,  7,  9,  9,  8])"
      ]
     },
     "execution_count": 63,
     "metadata": {},
     "output_type": "execute_result"
    }
   ],
   "source": [
    "a9=np.array([7,2,10,2,7,4,9,4,9,8])\n",
    "a9[(a9 >= 5) & (a9 <= 10)]"
   ]
  },
  {
   "cell_type": "code",
   "execution_count": 68,
   "metadata": {},
   "outputs": [
    {
     "name": "stdout",
     "output_type": "stream",
     "text": [
      "[1 4 5]\n"
     ]
    }
   ],
   "source": [
    "a = np.array([[1,2], [3, 4], [5, 6]])\n",
    "print(a[[0, 1, 2], [0, 1, 0]]) "
   ]
  },
  {
   "cell_type": "code",
   "execution_count": 67,
   "metadata": {},
   "outputs": [],
   "source": [
    "a10=np.arange(9).reshape(3,3)\n"
   ]
  }
 ],
 "metadata": {
  "kernelspec": {
   "display_name": "Python 3",
   "language": "python",
   "name": "python3"
  },
  "language_info": {
   "codemirror_mode": {
    "name": "ipython",
    "version": 3
   },
   "file_extension": ".py",
   "mimetype": "text/x-python",
   "name": "python",
   "nbconvert_exporter": "python",
   "pygments_lexer": "ipython3",
   "version": "3.7.1"
  }
 },
 "nbformat": 4,
 "nbformat_minor": 2
}
