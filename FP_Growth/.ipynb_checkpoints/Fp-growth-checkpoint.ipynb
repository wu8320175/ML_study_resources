{
 "cells": [
  {
   "cell_type": "code",
   "execution_count": 1,
   "metadata": {},
   "outputs": [],
   "source": [
    "import numpy as np"
   ]
  },
  {
   "cell_type": "code",
   "execution_count": 79,
   "metadata": {},
   "outputs": [],
   "source": [
    "class treeNode:\n",
    "    def __init__(self,nameValue,numOccur,parentNode):\n",
    "        self.name=nameValue#节点名称\n",
    "        self.count=numOccur#计数\n",
    "        self.nodeLink=None#链接相似元素\n",
    "        self.parent=parentNode#双亲节点\n",
    "        self.children={}#存放子节点\n",
    "    \n",
    "    #给计数增加值\n",
    "    def inc(self,numOccur):\n",
    "        self.count+=numOccur\n",
    "        \n",
    "    #显示树节点的结构\n",
    "    def disp(self,ind=1):\n",
    "        print(' '*ind,self.name,' ',self.count)\n",
    "        for child in self.children.values():\n",
    "            child.disp(ind+1)\n",
    "    "
   ]
  },
  {
   "cell_type": "code",
   "execution_count": 64,
   "metadata": {},
   "outputs": [],
   "source": [
    "from collections import Counter\n",
    "def loadData():\n",
    "    simDat=[\n",
    "            ['r','z','h','j','p'],\n",
    "            ['z','y','x','w','v','u','t','s'],\n",
    "            ['z'],\n",
    "            ['r','x','n','o','s'],\n",
    "            ['y','r','x','z','q','t','p'],\n",
    "            ['y','z','x','e','q','s','t','m']\n",
    "           ]\n",
    "    return simDat\n",
    "\n",
    "def createInitSet(dataSet):\n",
    "    retdict={}\n",
    "    for items in dataSet:\n",
    "        #get(x,1)  :取字典x的值，如果不存在返回0\n",
    "        #注意：这里是计算items的出现次数，相同的items会叠加！\n",
    "        #如：data中存在2个['r','x','n','o','s']，则retdict['['r','x','n','o','s']']=2\n",
    "        retdict[frozenset(items)]=retdict.get(frozenset(items),0)+1\n",
    "    return retdict\n"
   ]
  },
  {
   "cell_type": "code",
   "execution_count": 23,
   "metadata": {},
   "outputs": [
    {
     "name": "stdout",
     "output_type": "stream",
     "text": [
      "菜鸟教程 {'alexa': 10000, 'url': 'www.runoob.com'}\n"
     ]
    }
   ],
   "source": []
  },
  {
   "cell_type": "code",
   "execution_count": 168,
   "metadata": {},
   "outputs": [],
   "source": [
    "def  createTree(Dataset,minsup=1):\n",
    "    header={}\n",
    "    for Set_items in Dataset:\n",
    "        for singleElem in Set_items:\n",
    "            #Dataset[Set_items]中存的是Set_items的出现次数\n",
    "            header[singleElem]=header.get(singleElem,0)+Dataset[Set_items]\n",
    "    #print(header)\n",
    "    header_keys=list(header.keys())\n",
    "    for k in header_keys:\n",
    "        if header[k]<minsup:\n",
    "            header.pop(k)\n",
    "    #print(header)\n",
    "    #如果没有元素则退出\n",
    "    if len(header)==0:\n",
    "        return None,None\n",
    "#     #排序生成字典\n",
    "#     header=dict(sorted(header.items(),key=lambda x:x[1]))\n",
    "    #生成指向树的头指针表结构\n",
    "    for key in header:\n",
    "        header[key]=[header[key],None]\n",
    "    #\n",
    "    rootNode=treeNode(None,0,None)\n",
    "    for k,count in Dataset.items():\n",
    "        items_temp={}\n",
    "        for elem in k:\n",
    "            if elem in header:\n",
    "                items_temp[elem]=header[elem][0]\n",
    "        items_temp=sorted(items_temp.items(),key=lambda x:x[0])\n",
    "        items_temp=dict(sorted(items_temp,key=lambda x:x[1],reverse=True))#构造排序的一项\n",
    "#         print('insert:',items_temp)\n",
    "        #插入树中\n",
    "        Node_temp=rootNode\n",
    "        for item_key,item_value in items_temp.items():\n",
    "            if item_key in Node_temp.children:\n",
    "                Node_temp=Node_temp.children[item_key]\n",
    "                Node_temp.inc(count)\n",
    "\n",
    "            else:\n",
    "                Node_new=treeNode(item_key,count,Node_temp)\n",
    "                Node_temp.children[item_key]=Node_new\n",
    "                Node_temp=Node_new\n",
    "                #header[item_key][1]=Node_temp\n",
    "                \n",
    "                #调整header中key的指向\n",
    "                Node_p=header[item_key][1]\n",
    "                if Node_p==None:\n",
    "                    header[item_key][1]=Node_temp\n",
    "                else:\n",
    "                    while Node_p.nodeLink!=None:\n",
    "                        Node_p=Node_p.nodeLink\n",
    "                    Node_p.nodeLink=Node_temp\n",
    "    return header,rootNode"
   ]
  },
  {
   "cell_type": "code",
   "execution_count": 169,
   "metadata": {},
   "outputs": [],
   "source": [
    "def findPrefixPath(treeNode):\n",
    "    condPats={}\n",
    "    while treeNode!=None:\n",
    "        preSet=set()\n",
    "        NodeP=treeNode.parent\n",
    "        while NodeP.name!=None:\n",
    "            #向上遍历树直到树根\n",
    "            preSet.add(NodeP.name)\n",
    "            NodeP=NodeP.parent\n",
    "        if len(preSet)!=0:\n",
    "            condPats[frozenset(preSet)]=treeNode.count\n",
    "        treeNode=treeNode.nodeLink#继续处理下一个\n",
    "    return condPats\n"
   ]
  },
  {
   "cell_type": "code",
   "execution_count": 177,
   "metadata": {},
   "outputs": [],
   "source": [
    "def minTree(header,rootTree,minsup,prefix,freqItemlist):\n",
    "    bigL=[v[0] for v in sorted(header.item(),key=lambda x:x[1][0])]\n",
    "    print(bigL)\n",
    "    #bigL排序的header\n",
    "    #用于存储频繁项\n",
    "    for base in bigL:\n",
    "        #以headeer频繁项中的每一项为基，构造Fp树\n",
    "        newFreqSet = prefix.copy() \n",
    "        newFreqSet.add(base) #把上一轮的前缀并上当前的base，生成一条频繁项\n",
    "        \n",
    "        freqItemlist.append(newFreqSet)#把当前生成的频繁项保存\n",
    "        \n",
    "        condBase = findPrefixPath(header[base][1])#返回字典，保存了当前基生成的前缀路径\n",
    "        \n",
    "        base_header,base_FpTree = createTree(condBase,minsup)\n",
    "        if base_header!= None:\n",
    "            minTree(base_header,base_FpTree,minsup,newFreqSet,freqItemlist)"
   ]
  },
  {
   "cell_type": "code",
   "execution_count": 171,
   "metadata": {},
   "outputs": [
    {
     "name": "stdout",
     "output_type": "stream",
     "text": [
      "  None   0\n",
      "   z   5\n",
      "    r   1\n",
      "    x   3\n",
      "     s   2\n",
      "      t   2\n",
      "       y   2\n",
      "     r   1\n",
      "      t   1\n",
      "       y   1\n",
      "   x   1\n",
      "    r   1\n",
      "     s   1\n"
     ]
    }
   ],
   "source": [
    "Data=loadData()\n",
    "Dataset=createInitSet(Data)\n",
    "header,tree=createTree(Dataset,3)\n",
    "tree.disp()"
   ]
  },
  {
   "cell_type": "code",
   "execution_count": 172,
   "metadata": {},
   "outputs": [
    {
     "name": "stdout",
     "output_type": "stream",
     "text": [
      "{'z': [5, <__main__.treeNode object at 0x00000000068FDB38>], 'r': [3, <__main__.treeNode object at 0x00000000068FDE48>], 't': [3, <__main__.treeNode object at 0x00000000068FD978>], 's': [3, <__main__.treeNode object at 0x00000000068FD160>], 'x': [4, <__main__.treeNode object at 0x00000000068FD470>], 'y': [3, <__main__.treeNode object at 0x00000000068FD0F0>]}\n"
     ]
    }
   ],
   "source": [
    "print(header)"
   ]
  },
  {
   "cell_type": "code",
   "execution_count": 178,
   "metadata": {},
   "outputs": [
    {
     "name": "stdout",
     "output_type": "stream",
     "text": [
      "['r', 's', 't', 'y', 'x', 'z']\n",
      "['x']\n",
      "['x', 'z']\n",
      "['x']\n",
      "['t', 'x', 'z']\n",
      "['t']\n",
      "['t', 'x']\n",
      "['t']\n",
      "['z']\n",
      "[{'r'}, {'s'}, {'x', 's'}, {'t'}, {'x', 't'}, {'z', 't'}, {'x', 'z', 't'}, {'y'}, {'t', 'y'}, {'x', 'y'}, {'x', 't', 'y'}, {'z', 'y'}, {'z', 't', 'y'}, {'x', 'z', 'y'}, {'x', 'z', 't', 'y'}, {'x'}, {'x', 'z'}, {'z'}]\n"
     ]
    }
   ],
   "source": [
    "freqItems=[]\n",
    "minTree(header,tree,3,set([]),freqItems)\n",
    "print(freqItems)"
   ]
  },
  {
   "cell_type": "code",
   "execution_count": 154,
   "metadata": {},
   "outputs": [
    {
     "data": {
      "text/plain": [
       "{frozenset({'s', 'x', 'z'}): 2, frozenset({'r', 'x', 'z'}): 1}"
      ]
     },
     "execution_count": 154,
     "metadata": {},
     "output_type": "execute_result"
    }
   ],
   "source": [
    "findPrefixPath(header['t'][1])"
   ]
  },
  {
   "cell_type": "code",
   "execution_count": 52,
   "metadata": {},
   "outputs": [
    {
     "name": "stdout",
     "output_type": "stream",
     "text": [
      "  pyramid   9\n"
     ]
    }
   ],
   "source": [
    "rootNode=treeNode('pyramid',9,None)\n",
    "rootNode.disp()"
   ]
  }
 ],
 "metadata": {
  "kernelspec": {
   "display_name": "Python 3",
   "language": "python",
   "name": "python3"
  },
  "language_info": {
   "codemirror_mode": {
    "name": "ipython",
    "version": 3
   },
   "file_extension": ".py",
   "mimetype": "text/x-python",
   "name": "python",
   "nbconvert_exporter": "python",
   "pygments_lexer": "ipython3",
   "version": "3.7.1"
  }
 },
 "nbformat": 4,
 "nbformat_minor": 2
}
