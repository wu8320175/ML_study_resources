{
 "cells": [
  {
   "cell_type": "code",
   "execution_count": 1,
   "metadata": {},
   "outputs": [],
   "source": [
    "import numpy as np"
   ]
  },
  {
   "cell_type": "code",
   "execution_count": 3,
   "metadata": {},
   "outputs": [],
   "source": [
    "class treeNode:\n",
    "    def __init__(self,nameValue,numOccur,parentNode):\n",
    "        self.name=nameValue#节点名称\n",
    "        self.count=numOccur#计数\n",
    "        self.nodeLink=None#链接相似元素\n",
    "        self.parent=parentNode#双亲节点\n",
    "        self.children={}#存放子节点\n",
    "    \n",
    "    #给计数增加值\n",
    "    def inc(self,numOccur):\n",
    "        self.count+=numOccur\n",
    "        \n",
    "    #显示树节点的结构\n",
    "    def disp(self,ind=1):\n",
    "        print(' '*ind,self.name,' ',self.count)\n",
    "        for child in self.children.values():\n",
    "            child.disp(ind+1)\n",
    "    "
   ]
  },
  {
   "cell_type": "code",
   "execution_count": 5,
   "metadata": {},
   "outputs": [
    {
     "name": "stdout",
     "output_type": "stream",
     "text": [
      "  pyramid   9\n"
     ]
    }
   ],
   "source": [
    "rootNode=treeNode('pyramid',9,None)\n",
    "rootNode.disp()"
   ]
  }
 ],
 "metadata": {
  "kernelspec": {
   "display_name": "Python 3",
   "language": "python",
   "name": "python3"
  },
  "language_info": {
   "codemirror_mode": {
    "name": "ipython",
    "version": 3
   },
   "file_extension": ".py",
   "mimetype": "text/x-python",
   "name": "python",
   "nbconvert_exporter": "python",
   "pygments_lexer": "ipython3",
   "version": "3.7.1"
  }
 },
 "nbformat": 4,
 "nbformat_minor": 2
}
