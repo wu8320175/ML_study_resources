{
 "cells": [
  {
   "cell_type": "code",
   "execution_count": 182,
   "metadata": {},
   "outputs": [],
   "source": [
    "import numpy as np"
   ]
  },
  {
   "cell_type": "code",
   "execution_count": 183,
   "metadata": {},
   "outputs": [],
   "source": [
    "def loadDataSet():\n",
    "    data=[\n",
    "            [4,4,0,2,2],\n",
    "            [4,0,0,3,3],\n",
    "            [4,0,0,1,1],\n",
    "            [1,1,1,2,0],\n",
    "            [2,2,2,0,0],\n",
    "            [1,1,1,0,0],\n",
    "            [5,5,5,0,0]\n",
    "         ]\n",
    "    return np.array(data)\n",
    "def loadDataSet1():\n",
    "    \n",
    "#     data=[[0, 0, 0, 0, 0, 4, 0, 0, 0, 0, 5],\n",
    "#            [0, 0, 0, 3, 0, 4, 0, 0, 0, 0, 3],\n",
    "#            [0, 0, 0, 0, 4, 0, 0, 1, 0, 4, 0],\n",
    "#            [3, 3, 4, 0, 0, 0, 0, 2, 2, 0, 0],\n",
    "#            [5, 4, 5, 0, 0, 0, 0, 5, 5, 0, 0],\n",
    "#            [0, 0, 0, 0, 5, 0, 1, 0, 0, 5, 0],\n",
    "#            [4, 3, 4, 0, 0, 0, 0, 5, 5, 0, 1],\n",
    "#            [0, 0, 0, 4, 0, 4, 0, 0, 0, 0, 4],\n",
    "#            [0, 0, 0, 2, 0, 2, 5, 0, 0, 1, 2],\n",
    "#            [0, 0, 0, 0, 5, 0, 0, 0, 0, 4, 0],\n",
    "#            [1, 0, 0, 0, 0, 0, 0, 1, 2, 0, 0]]\n",
    "    data=[[2, 0, 0, 4, 4, 0, 0, 0, 0, 0, 0],\n",
    "           [0, 0, 0, 0, 0, 0, 0, 0, 0, 0, 5],\n",
    "           [0, 0, 0, 0, 0, 0, 0, 1, 0, 4, 0],\n",
    "           [3, 3, 4, 0, 3, 0, 0, 2, 2, 0, 0],\n",
    "           [5, 5, 5, 0, 0, 0, 0, 0, 0, 0, 0],\n",
    "           [0, 0, 0, 0, 0, 0, 5, 0, 0, 5, 0],\n",
    "           [4, 0, 4, 0, 0, 0, 0, 0, 0, 0, 5],\n",
    "           [0, 0, 0, 0, 0, 4, 0, 0, 0, 0, 4],\n",
    "           [0, 0, 0, 0, 0, 0, 5, 0, 0, 5, 0],\n",
    "           [0, 0, 0, 3, 0, 0, 0, 0, 4, 5, 0],\n",
    "           [1, 1, 2, 1, 1, 2, 1, 0, 4, 5, 0]]\n",
    "    return np.array(data)"
   ]
  },
  {
   "cell_type": "code",
   "execution_count": 141,
   "metadata": {},
   "outputs": [],
   "source": [
    "#两种皮尔逊相关系数计算方法\n",
    "def SimMethod(inA,inB):\n",
    "    if len(inA)<3:\n",
    "        return 1\n",
    "    inA=(inA-np.mean(inA)).reshape(1,-1)\n",
    "    inB=(inB-np.mean(inB)).reshape(-1,1)\n",
    "    p=inA.dot(inB)[0][0]/(np.sqrt(np.sum(inA**2))*np.sqrt(np.sum(inB**2)))\n",
    "    return 0.5+0.5*p\n",
    "    \n",
    "def pearSim(inA,inB):\n",
    "    if len(inA)<3: return 1.0\n",
    "    return 0.5+0.5*np.corrcoef(inA,inB,rowvar=1)[1][0]\n",
    "\n",
    "def cosSim(inA,inB):\n",
    "    inA=inA.reshape(1,-1)\n",
    "    inB=inB.reshape(-1,1)\n",
    "    p=inA.dot(inB)[0][0]/(np.linalg.norm(inA)*np.linalg.norm(inB))\n",
    "    return 0.5+0.5*p"
   ]
  },
  {
   "cell_type": "code",
   "execution_count": 142,
   "metadata": {},
   "outputs": [
    {
     "name": "stdout",
     "output_type": "stream",
     "text": [
      "0.7520080643870927\n",
      "0.7520080643870926\n",
      "0.8608308675945582\n"
     ]
    }
   ],
   "source": [
    "data=loadDataSet()\n",
    "inA=data[:,0]\n",
    "inB=data[:,4]\n",
    "print(SimMethod(inA,inB))\n",
    "print(pearSim(inA,inB))\n",
    "print(cosSim(inA,inB))"
   ]
  },
  {
   "cell_type": "code",
   "execution_count": 137,
   "metadata": {},
   "outputs": [],
   "source": [
    "def standEst(data,user,simMeas,item):#预测评分\n",
    "    simtotal,ratsimtotal=0,0#\n",
    "    for data_item in data[:,data[user,:]>0].T:#找到所有user行非0列\n",
    "        lines=np.where((data_item>0)&(data[:,item]>0))[0]#确定某两行的非零行\n",
    "        if len(lines)==0:\n",
    "            similarity=0\n",
    "        else:\n",
    "            similarity=simMeas(data_item[lines],data[lines,item])\n",
    "        simtotal+=similarity\n",
    "        ratsimtotal+=similarity*data_item[user]\n",
    "    if simtotal==0:\n",
    "        return 0\n",
    "    else:\n",
    "        return ratsimtotal/simtotal"
   ]
  },
  {
   "cell_type": "code",
   "execution_count": 181,
   "metadata": {},
   "outputs": [
    {
     "name": "stdout",
     "output_type": "stream",
     "text": [
      "[[-0.45137416  0.03084799 -0.00290108  0.01189185 -0.02704996]\n",
      " [-0.36239706  0.02584428 -0.00189127  0.01348796 -0.06811097]\n",
      " [-0.46879252  0.03296133 -0.00281253  0.01656192 -0.08376713]\n",
      " [-0.01007685 -0.34024331 -0.22728592  0.14546051 -0.85218381]\n",
      " [-0.01567036 -0.38750193  0.61197998 -0.17137451 -0.04105577]\n",
      " [-0.01664563 -0.52000097 -0.3608907  -0.14984063  0.04176534]\n",
      " [-0.00474684 -0.18887149 -0.00924222  0.94228361  0.223935  ]\n",
      " [-0.46712774  0.00389831  0.03349951 -0.02080674  0.05093596]\n",
      " [-0.47223188  0.02853952 -0.00504059  0.00160266  0.07391942]\n",
      " [-0.01591788 -0.39205093  0.55707516  0.04356321  0.01628715]\n",
      " [-0.0552444  -0.52034959 -0.36330956 -0.19023805  0.44664796]]\n"
     ]
    }
   ],
   "source": [
    "data1=loadDataSet1()\n",
    "u,s,v=np.linalg.svd(data1)\n",
    "s[:5].sum()/s.sum()\n",
    "sig=np.diag(s[:5])\n",
    "# 利用U矩阵将物品转换到低维空间中，构建转换后的物品(物品+4个主要的特征)\n",
    "xformedItems = data1.T.dot(u[:, :5]).dot(np.linalg.pinv(sig)) \n",
    "print(xformedItems)\n"
   ]
  },
  {
   "cell_type": "code",
   "execution_count": 169,
   "metadata": {},
   "outputs": [],
   "source": []
  },
  {
   "cell_type": "code",
   "execution_count": 205,
   "metadata": {},
   "outputs": [],
   "source": [
    "def svdEst(data,user,simMeas,item):\n",
    "    u,s,v=np.linalg.svd(data)\n",
    "    simtotal,ratsimtotal=0,0#计算式\n",
    "    X_form=data.T.dot(u[:,:5]).dot(np.linalg.pinv(np.diag(s[:5])))#矩阵降维\n",
    "    for j in range(data.shape[1]):\n",
    "        rate=data[user,j]\n",
    "        if rate==0 or item==j:continue\n",
    "        similarity=simMeas(X_form[item,:],X_form[j,:])\n",
    "        simtotal+=similarity\n",
    "        ratsimtotal+=similarity*rate\n",
    "    if simtotal==0:\n",
    "        return 0\n",
    "    else:\n",
    "        return ratsimtotal/simtotal           \n"
   ]
  },
  {
   "cell_type": "code",
   "execution_count": 206,
   "metadata": {},
   "outputs": [],
   "source": [
    "def recommend(data,user,n=3,simmeas=cosSim,estmehod=standEst):\n",
    "    zero_ix=np.where(data[user]==0)[0]\n",
    "    unrate_scores=[]\n",
    "    for ix in zero_ix:#遍历零列（用户未评级的那一项）\n",
    "        estimate_score=estmehod(data,user,simmeas,ix)#对未评级的进行评分\n",
    "        unrate_scores.append((ix,estimate_score))\n",
    "    l=sorted(unrate_scores,key=lambda x:x[1],reverse=True)\n",
    "    return l"
   ]
  },
  {
   "cell_type": "code",
   "execution_count": 207,
   "metadata": {},
   "outputs": [
    {
     "data": {
      "text/plain": [
       "[(6, 3.3468801084202875),\n",
       " (9, 3.341799823515646),\n",
       " (4, 3.336765794121341),\n",
       " (8, 3.295801535769996),\n",
       " (7, 3.288573039505219),\n",
       " (0, 3.2471537903801884),\n",
       " (2, 3.218504060438292),\n",
       " (1, 3.2161302502426574)]"
      ]
     },
     "execution_count": 207,
     "metadata": {},
     "output_type": "execute_result"
    }
   ],
   "source": [
    "recommend(data1,1,simmeas=SimMethod,estmehod=svdEst)\n"
   ]
  }
 ],
 "metadata": {
  "kernelspec": {
   "display_name": "Python 3",
   "language": "python",
   "name": "python3"
  },
  "language_info": {
   "codemirror_mode": {
    "name": "ipython",
    "version": 3
   },
   "file_extension": ".py",
   "mimetype": "text/x-python",
   "name": "python",
   "nbconvert_exporter": "python",
   "pygments_lexer": "ipython3",
   "version": "3.7.1"
  }
 },
 "nbformat": 4,
 "nbformat_minor": 2
}
