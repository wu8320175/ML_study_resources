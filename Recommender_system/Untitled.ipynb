{
 "cells": [
  {
   "cell_type": "code",
   "execution_count": 73,
   "metadata": {},
   "outputs": [],
   "source": [
    "import numpy as np\n",
    "import scipy.io as sio"
   ]
  },
  {
   "cell_type": "code",
   "execution_count": 104,
   "metadata": {},
   "outputs": [
    {
     "data": {
      "text/plain": [
       "(1682, 10)"
      ]
     },
     "execution_count": 104,
     "metadata": {},
     "output_type": "execute_result"
    }
   ],
   "source": [
    "data1=sio.loadmat('ex8_movies.mat')\n",
    "data2=sio.loadmat('ex8_movieParams.mat')\n",
    "data2['X'].shape"
   ]
  },
  {
   "cell_type": "code",
   "execution_count": 105,
   "metadata": {},
   "outputs": [
    {
     "name": "stdout",
     "output_type": "stream",
     "text": [
      "(1682, 943) (1682, 943)\n"
     ]
    }
   ],
   "source": [
    "Y=data1['Y']\n",
    "R=data1['R']\n",
    "print(Y.shape,R.shape)"
   ]
  },
  {
   "cell_type": "code",
   "execution_count": 106,
   "metadata": {
    "scrolled": true
   },
   "outputs": [],
   "source": [
    "def init_para(data,size=10):\n",
    "    theta=np.random.uniform(0,1,size=(size,data.shape[1]))\n",
    "    x=np.random.uniform(0,1,size=(data.shape[0],size))\n",
    "    return x,theta\n",
    "x,theta=init_para(Y)"
   ]
  },
  {
   "cell_type": "code",
   "execution_count": 107,
   "metadata": {},
   "outputs": [
    {
     "data": {
      "text/plain": [
       "146179.15120771396"
      ]
     },
     "execution_count": 107,
     "metadata": {},
     "output_type": "execute_result"
    }
   ],
   "source": [
    "def costfunc(x,theta,Y,R,lamada=1):\n",
    "    s=np.sum(((x.dot(theta)-Y)[R==1])**2)+lamada*(np.sum(x**2)+np.sum(theta**2))\n",
    "    return s/2\n",
    "costfunc(x,theta,Y,R)"
   ]
  },
  {
   "cell_type": "code",
   "execution_count": 100,
   "metadata": {},
   "outputs": [
    {
     "data": {
      "text/plain": [
       "array([[3, 3],\n",
       "       [6, 6],\n",
       "       [9, 9]])"
      ]
     },
     "execution_count": 100,
     "metadata": {},
     "output_type": "execute_result"
    }
   ],
   "source": [
    "a=np.array([[1,1],[2,2],[3,3]])\n",
    "b=np.array([3,3])\n",
    "a*b"
   ]
  },
  {
   "cell_type": "code",
   "execution_count": 108,
   "metadata": {},
   "outputs": [],
   "source": [
    "def Gradient_Descent(x,theta,Y,R,lamada=1,alpha=0.2):\n",
    "    #更新x\n",
    "    #遍历行，找到每行已经评分的项\n",
    "    Y_diff=x.dot(theta)-Y\n",
    "    for i in range(Y.shape[0]):#遍历行（电影）\n",
    "        #找到Y_diff中的i行已经评价的下标\n",
    "        ix_j=R[i,:]==1\n",
    "        #对应找到theta的j列（对应theta(m,n)（n为特征）已经评价的列）\n",
    "        #与Y_diff中的对应列相乘，得到每一个评价所对应的x的梯度\n",
    "        each_grad=Y_diff[i,ix_j]*theta[:,ix_j]\n",
    "        #按行求和,每一行为所有theta对应一个x(i,k)的一个求导和\n",
    "        grad_sum=np.sum(each_grad,axis=1)\n",
    "        grad_reg=grad_sum+lamada*x[i,:]\n",
    "        x[i,:]=x[i,:]-alpha*grad_reg\n",
    "    #更新theta\n",
    "    for j in range(Y.shape[1]):#遍历列(用户)\n",
    "        #找到j列已经评价的下标\n",
    "        ix_i=R[:,j]==1\n",
    "        each_grad=Y_diff[ix_i,j]*x[ix_i,:].T\n",
    "        grad_sum=np.sum(each_grad.T,axis=0)#列求和\n",
    "        grad_reg=grad_sum+lamada*theta[:,j]\n",
    "        theta[:,j]=theta[:,j]-alpha*grad_reg\n",
    "    return theta,x\n",
    "\n"
   ]
  },
  {
   "cell_type": "code",
   "execution_count": 112,
   "metadata": {},
   "outputs": [],
   "source": [
    "theta,x=Gradient_Descent(x,theta,Y,R)"
   ]
  },
  {
   "cell_type": "code",
   "execution_count": 114,
   "metadata": {},
   "outputs": [
    {
     "data": {
      "text/plain": [
       "2.461948436262563e+62"
      ]
     },
     "execution_count": 114,
     "metadata": {},
     "output_type": "execute_result"
    }
   ],
   "source": [
    "costfunc(x,theta,Y,R)"
   ]
  }
 ],
 "metadata": {
  "kernelspec": {
   "display_name": "Python 3",
   "language": "python",
   "name": "python3"
  },
  "language_info": {
   "codemirror_mode": {
    "name": "ipython",
    "version": 3
   },
   "file_extension": ".py",
   "mimetype": "text/x-python",
   "name": "python",
   "nbconvert_exporter": "python",
   "pygments_lexer": "ipython3",
   "version": "3.7.1"
  }
 },
 "nbformat": 4,
 "nbformat_minor": 2
}
