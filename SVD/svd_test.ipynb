{
 "cells": [
  {
   "cell_type": "code",
   "execution_count": 4,
   "metadata": {},
   "outputs": [],
   "source": [
    "import numpy as np"
   ]
  },
  {
   "cell_type": "code",
   "execution_count": 11,
   "metadata": {},
   "outputs": [],
   "source": [
    "def loadData():\n",
    "    return [\n",
    "        [1,1,1,0,0],\n",
    "        [2,2,2,0,0],\n",
    "        [1,1,1,0,0],\n",
    "        [5,5,5,0,0],\n",
    "        [1,1,0,2,2],\n",
    "        [0,0,0,3,3],\n",
    "        [0,0,0,1,1]\n",
    "    ]"
   ]
  },
  {
   "cell_type": "code",
   "execution_count": 46,
   "metadata": {
    "scrolled": true
   },
   "outputs": [
    {
     "data": {
      "text/plain": [
       "array([[ 1.,  1.,  1., -0., -0.],\n",
       "       [ 2.,  2.,  2., -0., -0.],\n",
       "       [ 1.,  1.,  1., -0., -0.],\n",
       "       [ 5.,  5.,  5., -0., -0.],\n",
       "       [ 1.,  1.,  1.,  2.,  2.],\n",
       "       [ 1.,  1., -0.,  3.,  3.],\n",
       "       [ 1.,  1., -0.,  1.,  1.]])"
      ]
     },
     "execution_count": 46,
     "metadata": {},
     "output_type": "execute_result"
    }
   ],
   "source": [
    "data=loadData()\n",
    "u,s,v=np.linalg.svd(data)\n",
    "sig=np.identity(s.shape[0])*s\n",
    "sig1=np.zeros_like(data)\n",
    "sig1[:sig.shape[0],:sig.shape[0]]=sig\n",
    "np.ceil(u.dot(sig1).dot(v))\n"
   ]
  },
  {
   "cell_type": "code",
   "execution_count": 22,
   "metadata": {},
   "outputs": [
    {
     "data": {
      "text/plain": [
       "array([[0., 0., 0., 0., 0.],\n",
       "       [0., 0., 0., 0., 0.],\n",
       "       [0., 0., 0., 0., 0.],\n",
       "       [0., 0., 0., 0., 0.],\n",
       "       [0., 0., 0., 0., 0.]])"
      ]
     },
     "execution_count": 22,
     "metadata": {},
     "output_type": "execute_result"
    }
   ],
   "source": []
  },
  {
   "cell_type": "code",
   "execution_count": null,
   "metadata": {},
   "outputs": [],
   "source": []
  }
 ],
 "metadata": {
  "kernelspec": {
   "display_name": "Python 3",
   "language": "python",
   "name": "python3"
  },
  "language_info": {
   "codemirror_mode": {
    "name": "ipython",
    "version": 3
   },
   "file_extension": ".py",
   "mimetype": "text/x-python",
   "name": "python",
   "nbconvert_exporter": "python",
   "pygments_lexer": "ipython3",
   "version": "3.7.1"
  }
 },
 "nbformat": 4,
 "nbformat_minor": 2
}
