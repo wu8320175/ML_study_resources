{
 "cells": [
  {
   "cell_type": "code",
   "execution_count": 3,
   "metadata": {},
   "outputs": [
    {
     "data": {
      "text/plain": [
       "'home/lucinao'"
      ]
     },
     "execution_count": 3,
     "metadata": {},
     "output_type": "execute_result"
    }
   ],
   "source": [
    "import os\n",
    "_,filename=os.path.split('home/lucinao/idrsa.pub')\n",
    "_"
   ]
  },
  {
   "cell_type": "code",
   "execution_count": 13,
   "metadata": {},
   "outputs": [
    {
     "name": "stdout",
     "output_type": "stream",
     "text": [
      "Abc\n",
      "abc\n"
     ]
    }
   ],
   "source": [
    "a=\"abc\"\n",
    "print(a.replace(\"a\",\"A\"))\n",
    "print(a)"
   ]
  },
  {
   "cell_type": "code",
   "execution_count": 8,
   "metadata": {},
   "outputs": [
    {
     "data": {
      "text/plain": [
       "OrderedDict([('name', 'tokyo'),\n",
       "             ('country', 'jp'),\n",
       "             ('population', 36.933),\n",
       "             ('coordinates', (35, 36))])"
      ]
     },
     "execution_count": 8,
     "metadata": {},
     "output_type": "execute_result"
    }
   ],
   "source": [
    "from collections import namedtuple\n",
    "city=namedtuple('city','name country population coordinates')\n",
    "#tuple名称， ，“zd1 zd2”各字段\n",
    "tokyo=city('tokyo','jp',36.933,(35,36))\n",
    "tokyo.name\n",
    "tokyo._asdict()"
   ]
  },
  {
   "cell_type": "code",
   "execution_count": 33,
   "metadata": {},
   "outputs": [
    {
     "ename": "TypeError",
     "evalue": "'tuple' object does not support item assignment",
     "output_type": "error",
     "traceback": [
      "\u001b[1;31m---------------------------------------------------------------------------\u001b[0m",
      "\u001b[1;31mTypeError\u001b[0m                                 Traceback (most recent call last)",
      "\u001b[1;32m<ipython-input-33-c03bb76ee99f>\u001b[0m in \u001b[0;36m<module>\u001b[1;34m\u001b[0m\n\u001b[0;32m     11\u001b[0m \u001b[0mrow\u001b[0m\u001b[1;33m\u001b[0m\u001b[1;33m\u001b[0m\u001b[0m\n\u001b[0;32m     12\u001b[0m \u001b[0mt\u001b[0m\u001b[1;33m=\u001b[0m\u001b[1;33m(\u001b[0m\u001b[1;36m1\u001b[0m\u001b[1;33m,\u001b[0m\u001b[1;36m2\u001b[0m\u001b[1;33m,\u001b[0m\u001b[1;33m[\u001b[0m\u001b[1;36m3\u001b[0m\u001b[1;33m,\u001b[0m\u001b[1;36m4\u001b[0m\u001b[1;33m]\u001b[0m\u001b[1;33m)\u001b[0m\u001b[1;33m\u001b[0m\u001b[1;33m\u001b[0m\u001b[0m\n\u001b[1;32m---> 13\u001b[1;33m \u001b[0mt\u001b[0m\u001b[1;33m[\u001b[0m\u001b[1;36m2\u001b[0m\u001b[1;33m]\u001b[0m\u001b[1;33m+=\u001b[0m\u001b[1;33m[\u001b[0m\u001b[1;36m1\u001b[0m\u001b[1;33m,\u001b[0m\u001b[1;36m1\u001b[0m\u001b[1;33m]\u001b[0m\u001b[1;33m\u001b[0m\u001b[1;33m\u001b[0m\u001b[0m\n\u001b[0m",
      "\u001b[1;31mTypeError\u001b[0m: 'tuple' object does not support item assignment"
     ]
    }
   ],
   "source": [
    "a=[x for x in range(10)] \n",
    "a[5:9]=[100]\n",
    "a+[11,11,11]\n",
    "a*2\n",
    "l=[[]]*3\n",
    "l[1].append(\"same list\")\n",
    "l=[[]*3 for i in range(3)]\n",
    "l[0].append(1)\n",
    "row=['_']*3\n",
    "row[1]=2\n",
    "row\n",
    "t=(1,2,[3,4])\n",
    "t[2]+=[1,1]\n"
   ]
  },
  {
   "cell_type": "code",
   "execution_count": 1,
   "metadata": {},
   "outputs": [
    {
     "name": "stdout",
     "output_type": "stream",
     "text": [
      "4\n",
      "None\n",
      "[0, 1, 2, 3, 4]\n"
     ]
    }
   ],
   "source": [
    "import bisect\n",
    "l=[x for x in range(4)]\n",
    "print(bisect.bisect(l,5))#5应该插入在l的哪个位置\n",
    "print(bisect.insort(l,4))#4插入l中并保持排序\n",
    "print(l)\n",
    "\n",
    "\n"
   ]
  },
  {
   "cell_type": "code",
   "execution_count": 3,
   "metadata": {},
   "outputs": [],
   "source": [
    "def grade(score,points=[60,70,80,90],grades='FDCBA'):\n",
    "    grades_dict=dict(zip(points,grades))\n",
    "    print(grades_dict)\n"
   ]
  },
  {
   "cell_type": "code",
   "execution_count": 14,
   "metadata": {},
   "outputs": [
    {
     "name": "stdout",
     "output_type": "stream",
     "text": [
      "Wall time: 44 ms\n",
      "Wall time: 80 ms\n",
      "0.2925448907780587 0.2925448907780587\n"
     ]
    }
   ],
   "source": [
    "from array import array\n",
    "from random import random\n",
    "floats=array('d',(random() for i in range((10**7))))\n",
    "\n",
    "with open('floats.bin','wb') as f:\n",
    "    %time floats.tofile(f)\n",
    "\n",
    "with open('floats.bin','rb') as f:\n",
    "    floats2=array('d')\n",
    "    %time floats2.fromfile(f,10**7)\n",
    "\n",
    "print(floats[-1],floats2[-1])"
   ]
  },
  {
   "cell_type": "code",
   "execution_count": 27,
   "metadata": {},
   "outputs": [
    {
     "data": {
      "text/plain": [
       "{'a': [0, 1], 'b': [2, 3], 'c': [4, 5], 'd': [6, 7, 8]}"
      ]
     },
     "execution_count": 27,
     "metadata": {},
     "output_type": "execute_result"
    }
   ],
   "source": [
    "index={'a':[0,1],'b':[2,3],'c':[4,5]}\n",
    "#解决1：\n",
    "occ=index.get('d',[])\n",
    "occ.extend([6,7])\n",
    "index['d']=occ\n",
    "#解决2：\n",
    "#index={'a':[0,1],'b':[2,3],'c':[4,5]}\n",
    "index.setdefault('d',[]) == index['d']#如果存在d则调出d的引用，否则创建d键值对默认值[]\n",
    "index.setdefault('d',[]).append(8)\n",
    "index"
   ]
  },
  {
   "cell_type": "code",
   "execution_count": 46,
   "metadata": {},
   "outputs": [
    {
     "data": {
      "text/plain": [
       "defaultdict(tuple, {'a': ()})"
      ]
     },
     "execution_count": 46,
     "metadata": {},
     "output_type": "execute_result"
    }
   ],
   "source": [
    "import collections\n",
    "index=collections.defaultdict(list)#设置好了在找不到键值对的时候,创建并设置默认值\n",
    "index['a']#会自动创建键a，并用list作为默认对象\n",
    "index"
   ]
  }
 ],
 "metadata": {
  "kernelspec": {
   "display_name": "Python 3",
   "language": "python",
   "name": "python3"
  },
  "language_info": {
   "codemirror_mode": {
    "name": "ipython",
    "version": 3
   },
   "file_extension": ".py",
   "mimetype": "text/x-python",
   "name": "python",
   "nbconvert_exporter": "python",
   "pygments_lexer": "ipython3",
   "version": "3.7.1"
  }
 },
 "nbformat": 4,
 "nbformat_minor": 2
}
