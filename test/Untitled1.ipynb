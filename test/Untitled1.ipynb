{
 "cells": [
  {
   "cell_type": "code",
   "execution_count": 31,
   "metadata": {},
   "outputs": [
    {
     "name": "stdout",
     "output_type": "stream",
     "text": [
      "2 2 4 \n"
     ]
    }
   ],
   "source": [
    "s='aabbcddc'\n",
    "ss=''\n",
    "stack=[0]*len(s)\n",
    "ix=0\n",
    "i=0\n",
    "while i<len(s):\n",
    "    if ix>0 and stack[ix-1]==s[i]:\n",
    "        i=i+ix\n",
    "        ss=ss+str(ix*2)+' '\n",
    "        ix=0\n",
    "    if i<len(s):\n",
    "        stack[ix]=s[i]\n",
    "        ix+=1\n",
    "        i+=1\n",
    "print(ss)"
   ]
  }
 ],
 "metadata": {
  "kernelspec": {
   "display_name": "Python 3",
   "language": "python",
   "name": "python3"
  },
  "language_info": {
   "codemirror_mode": {
    "name": "ipython",
    "version": 3
   },
   "file_extension": ".py",
   "mimetype": "text/x-python",
   "name": "python",
   "nbconvert_exporter": "python",
   "pygments_lexer": "ipython3",
   "version": "3.7.1"
  }
 },
 "nbformat": 4,
 "nbformat_minor": 2
}
